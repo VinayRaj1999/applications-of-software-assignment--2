{
 "cells": [
  {
   "cell_type": "code",
   "execution_count": 1,
   "id": "f7ea16b9",
   "metadata": {},
   "outputs": [
    {
     "name": "stderr",
     "output_type": "stream",
     "text": [
      "C:\\Users\\kiran\\anaconda3\\Lib\\site-packages\\pandas\\core\\arrays\\masked.py:60: UserWarning: Pandas requires version '1.3.6' or newer of 'bottleneck' (version '1.3.5' currently installed).\n",
      "  from pandas.core import (\n"
     ]
    }
   ],
   "source": [
    "import pandas as pd "
   ]
  },
  {
   "cell_type": "code",
   "execution_count": 2,
   "id": "ce5eae58",
   "metadata": {},
   "outputs": [],
   "source": [
    "import os "
   ]
  },
  {
   "cell_type": "code",
   "execution_count": 3,
   "id": "1572b2de",
   "metadata": {},
   "outputs": [
    {
     "data": {
      "text/html": [
       "<div>\n",
       "<style scoped>\n",
       "    .dataframe tbody tr th:only-of-type {\n",
       "        vertical-align: middle;\n",
       "    }\n",
       "\n",
       "    .dataframe tbody tr th {\n",
       "        vertical-align: top;\n",
       "    }\n",
       "\n",
       "    .dataframe thead th {\n",
       "        text-align: right;\n",
       "    }\n",
       "</style>\n",
       "<table border=\"1\" class=\"dataframe\">\n",
       "  <thead>\n",
       "    <tr style=\"text-align: right;\">\n",
       "      <th></th>\n",
       "      <th>Rocinante 36_Car No.</th>\n",
       "      <th>Rocinante 36_Mileage (km/ltr)</th>\n",
       "      <th>Rocinante 36_Top speed (km/hr)</th>\n",
       "      <th>Marengo 32_Car No.</th>\n",
       "      <th>Marengo 32_Mileage (km/ltr)</th>\n",
       "      <th>Marengo 32_Top speed (km/hr)</th>\n",
       "    </tr>\n",
       "  </thead>\n",
       "  <tbody>\n",
       "    <tr>\n",
       "      <th>0</th>\n",
       "      <td>1</td>\n",
       "      <td>21.20</td>\n",
       "      <td>151.9</td>\n",
       "      <td>1</td>\n",
       "      <td>15.04</td>\n",
       "      <td>211.3</td>\n",
       "    </tr>\n",
       "    <tr>\n",
       "      <th>1</th>\n",
       "      <td>2</td>\n",
       "      <td>21.79</td>\n",
       "      <td>147.6</td>\n",
       "      <td>2</td>\n",
       "      <td>15.41</td>\n",
       "      <td>207.0</td>\n",
       "    </tr>\n",
       "    <tr>\n",
       "      <th>2</th>\n",
       "      <td>3</td>\n",
       "      <td>21.87</td>\n",
       "      <td>145.6</td>\n",
       "      <td>3</td>\n",
       "      <td>15.43</td>\n",
       "      <td>206.2</td>\n",
       "    </tr>\n",
       "    <tr>\n",
       "      <th>3</th>\n",
       "      <td>4</td>\n",
       "      <td>22.71</td>\n",
       "      <td>136.1</td>\n",
       "      <td>4</td>\n",
       "      <td>15.92</td>\n",
       "      <td>213.4</td>\n",
       "    </tr>\n",
       "    <tr>\n",
       "      <th>4</th>\n",
       "      <td>5</td>\n",
       "      <td>22.52</td>\n",
       "      <td>139.7</td>\n",
       "      <td>5</td>\n",
       "      <td>15.20</td>\n",
       "      <td>204.2</td>\n",
       "    </tr>\n",
       "    <tr>\n",
       "      <th>5</th>\n",
       "      <td>6</td>\n",
       "      <td>21.41</td>\n",
       "      <td>146.1</td>\n",
       "      <td>6</td>\n",
       "      <td>15.22</td>\n",
       "      <td>208.7</td>\n",
       "    </tr>\n",
       "    <tr>\n",
       "      <th>6</th>\n",
       "      <td>7</td>\n",
       "      <td>22.71</td>\n",
       "      <td>139.6</td>\n",
       "      <td>7</td>\n",
       "      <td>14.60</td>\n",
       "      <td>200.0</td>\n",
       "    </tr>\n",
       "    <tr>\n",
       "      <th>7</th>\n",
       "      <td>8</td>\n",
       "      <td>21.71</td>\n",
       "      <td>143.0</td>\n",
       "      <td>8</td>\n",
       "      <td>14.41</td>\n",
       "      <td>210.9</td>\n",
       "    </tr>\n",
       "    <tr>\n",
       "      <th>8</th>\n",
       "      <td>9</td>\n",
       "      <td>19.95</td>\n",
       "      <td>136.4</td>\n",
       "      <td>9</td>\n",
       "      <td>14.79</td>\n",
       "      <td>208.5</td>\n",
       "    </tr>\n",
       "    <tr>\n",
       "      <th>9</th>\n",
       "      <td>10</td>\n",
       "      <td>20.65</td>\n",
       "      <td>146.6</td>\n",
       "      <td>10</td>\n",
       "      <td>14.81</td>\n",
       "      <td>214.2</td>\n",
       "    </tr>\n",
       "    <tr>\n",
       "      <th>10</th>\n",
       "      <td>11</td>\n",
       "      <td>22.86</td>\n",
       "      <td>139.9</td>\n",
       "      <td>11</td>\n",
       "      <td>15.61</td>\n",
       "      <td>215.8</td>\n",
       "    </tr>\n",
       "    <tr>\n",
       "      <th>11</th>\n",
       "      <td>12</td>\n",
       "      <td>21.12</td>\n",
       "      <td>136.6</td>\n",
       "      <td>12</td>\n",
       "      <td>15.76</td>\n",
       "      <td>215.8</td>\n",
       "    </tr>\n",
       "    <tr>\n",
       "      <th>12</th>\n",
       "      <td>13</td>\n",
       "      <td>22.80</td>\n",
       "      <td>148.5</td>\n",
       "      <td>13</td>\n",
       "      <td>14.97</td>\n",
       "      <td>215.2</td>\n",
       "    </tr>\n",
       "    <tr>\n",
       "      <th>13</th>\n",
       "      <td>14</td>\n",
       "      <td>20.89</td>\n",
       "      <td>143.4</td>\n",
       "      <td>14</td>\n",
       "      <td>14.71</td>\n",
       "      <td>218.7</td>\n",
       "    </tr>\n",
       "    <tr>\n",
       "      <th>14</th>\n",
       "      <td>15</td>\n",
       "      <td>22.49</td>\n",
       "      <td>134.2</td>\n",
       "      <td>15</td>\n",
       "      <td>15.55</td>\n",
       "      <td>208.0</td>\n",
       "    </tr>\n",
       "    <tr>\n",
       "      <th>15</th>\n",
       "      <td>16</td>\n",
       "      <td>20.94</td>\n",
       "      <td>140.5</td>\n",
       "      <td>16</td>\n",
       "      <td>15.19</td>\n",
       "      <td>212.2</td>\n",
       "    </tr>\n",
       "    <tr>\n",
       "      <th>16</th>\n",
       "      <td>17</td>\n",
       "      <td>20.37</td>\n",
       "      <td>137.8</td>\n",
       "      <td>17</td>\n",
       "      <td>15.36</td>\n",
       "      <td>219.7</td>\n",
       "    </tr>\n",
       "    <tr>\n",
       "      <th>17</th>\n",
       "      <td>18</td>\n",
       "      <td>22.72</td>\n",
       "      <td>135.1</td>\n",
       "      <td>18</td>\n",
       "      <td>15.93</td>\n",
       "      <td>216.4</td>\n",
       "    </tr>\n",
       "    <tr>\n",
       "      <th>18</th>\n",
       "      <td>19</td>\n",
       "      <td>20.54</td>\n",
       "      <td>138.8</td>\n",
       "      <td>19</td>\n",
       "      <td>14.54</td>\n",
       "      <td>205.8</td>\n",
       "    </tr>\n",
       "    <tr>\n",
       "      <th>19</th>\n",
       "      <td>20</td>\n",
       "      <td>21.14</td>\n",
       "      <td>132.0</td>\n",
       "      <td>20</td>\n",
       "      <td>14.76</td>\n",
       "      <td>209.0</td>\n",
       "    </tr>\n",
       "  </tbody>\n",
       "</table>\n",
       "</div>"
      ],
      "text/plain": [
       "    Rocinante 36_Car No.  Rocinante 36_Mileage (km/ltr)  \\\n",
       "0                      1                          21.20   \n",
       "1                      2                          21.79   \n",
       "2                      3                          21.87   \n",
       "3                      4                          22.71   \n",
       "4                      5                          22.52   \n",
       "5                      6                          21.41   \n",
       "6                      7                          22.71   \n",
       "7                      8                          21.71   \n",
       "8                      9                          19.95   \n",
       "9                     10                          20.65   \n",
       "10                    11                          22.86   \n",
       "11                    12                          21.12   \n",
       "12                    13                          22.80   \n",
       "13                    14                          20.89   \n",
       "14                    15                          22.49   \n",
       "15                    16                          20.94   \n",
       "16                    17                          20.37   \n",
       "17                    18                          22.72   \n",
       "18                    19                          20.54   \n",
       "19                    20                          21.14   \n",
       "\n",
       "    Rocinante 36_Top speed (km/hr)  Marengo 32_Car No.  \\\n",
       "0                            151.9                   1   \n",
       "1                            147.6                   2   \n",
       "2                            145.6                   3   \n",
       "3                            136.1                   4   \n",
       "4                            139.7                   5   \n",
       "5                            146.1                   6   \n",
       "6                            139.6                   7   \n",
       "7                            143.0                   8   \n",
       "8                            136.4                   9   \n",
       "9                            146.6                  10   \n",
       "10                           139.9                  11   \n",
       "11                           136.6                  12   \n",
       "12                           148.5                  13   \n",
       "13                           143.4                  14   \n",
       "14                           134.2                  15   \n",
       "15                           140.5                  16   \n",
       "16                           137.8                  17   \n",
       "17                           135.1                  18   \n",
       "18                           138.8                  19   \n",
       "19                           132.0                  20   \n",
       "\n",
       "    Marengo 32_Mileage (km/ltr)  Marengo 32_Top speed (km/hr)  \n",
       "0                         15.04                         211.3  \n",
       "1                         15.41                         207.0  \n",
       "2                         15.43                         206.2  \n",
       "3                         15.92                         213.4  \n",
       "4                         15.20                         204.2  \n",
       "5                         15.22                         208.7  \n",
       "6                         14.60                         200.0  \n",
       "7                         14.41                         210.9  \n",
       "8                         14.79                         208.5  \n",
       "9                         14.81                         214.2  \n",
       "10                        15.61                         215.8  \n",
       "11                        15.76                         215.8  \n",
       "12                        14.97                         215.2  \n",
       "13                        14.71                         218.7  \n",
       "14                        15.55                         208.0  \n",
       "15                        15.19                         212.2  \n",
       "16                        15.36                         219.7  \n",
       "17                        15.93                         216.4  \n",
       "18                        14.54                         205.8  \n",
       "19                        14.76                         209.0  "
      ]
     },
     "execution_count": 3,
     "metadata": {},
     "output_type": "execute_result"
    }
   ],
   "source": [
    "df = pd.read_excel(\"Exhibit+1.xlsx\")\n",
    "df"
   ]
  },
  {
   "cell_type": "markdown",
   "id": "fa334c59",
   "metadata": {},
   "source": [
    "### Q-1) Formulate the null and alternative hypotheses for mileage and top speed to check whether the new models are performing as per the desired design specifications.\n",
    "\n",
    "### Q-2) In order to comment on whether or not the design specifications are being matched, perform relevant hypothesis tests and calculate the p-values for each model. What will you conclude? Assume that you are performing the tests at a 95% confidence level.\n",
    "#### Rocinante36 model - Mileage\n",
    "\n",
    "#### NULL HYPOTHESIS: Mileage HO : Milage of Rocinante36 model is equal to 22km/hr\n",
    "#### ALTERNATE HYPOTHESIS: Mileage H1 : Milage of Rocinante36 model is not equal to 22km/hr"
   ]
  },
  {
   "cell_type": "code",
   "execution_count": 4,
   "id": "94e1bd1b",
   "metadata": {},
   "outputs": [],
   "source": [
    "RCNT_Desired_milage = 22"
   ]
  },
  {
   "cell_type": "code",
   "execution_count": 8,
   "id": "4076c989",
   "metadata": {},
   "outputs": [],
   "source": [
    "RCNT_mileage_data = df[\"Rocinante 36_Mileage (km/ltr)\"]"
   ]
  },
  {
   "cell_type": "code",
   "execution_count": 9,
   "id": "18759a52",
   "metadata": {},
   "outputs": [
    {
     "data": {
      "text/plain": [
       "0     21.20\n",
       "1     21.79\n",
       "2     21.87\n",
       "3     22.71\n",
       "4     22.52\n",
       "5     21.41\n",
       "6     22.71\n",
       "7     21.71\n",
       "8     19.95\n",
       "9     20.65\n",
       "10    22.86\n",
       "11    21.12\n",
       "12    22.80\n",
       "13    20.89\n",
       "14    22.49\n",
       "15    20.94\n",
       "16    20.37\n",
       "17    22.72\n",
       "18    20.54\n",
       "19    21.14\n",
       "Name: Rocinante 36_Mileage (km/ltr), dtype: float64"
      ]
     },
     "execution_count": 9,
     "metadata": {},
     "output_type": "execute_result"
    }
   ],
   "source": [
    "RCNT_mileage_data "
   ]
  },
  {
   "cell_type": "code",
   "execution_count": 7,
   "id": "b493db20",
   "metadata": {},
   "outputs": [
    {
     "name": "stdout",
     "output_type": "stream",
     "text": [
      "t-statistic:  -1.8350746065984094\n",
      "p-value:  0.08220024707686456\n"
     ]
    }
   ],
   "source": [
    "import numpy as np\n",
    "from scipy import stats\n",
    "t,p = stats.ttest_1samp(RCNT_mileage_data, RCNT_Desired_milage)\n",
    "print('t-statistic: ',t)\n",
    "print('p-value: ',p)"
   ]
  },
  {
   "cell_type": "markdown",
   "id": "93c6ffe0",
   "metadata": {},
   "source": [
    "### Result: Since the p-value is greater than 0.05, we fail to reject the null hypothesis. This means the mileage of the Rocinante 36 model is not significantly different from the desired specification.\n",
    "\n",
    "### For the Top Speed:\n",
    "\n",
    "#### Null Hypothesis (H0): The top speed of the Rocinante 36 model is 140 km/hr.\n",
    "#### Alternate Hypothesis (H1): The top speed of the Rocinante 36 model is not 140 km/hr."
   ]
  },
  {
   "cell_type": "code",
   "execution_count": 10,
   "id": "a6926c78",
   "metadata": {},
   "outputs": [],
   "source": [
    "RCNT_desired_topspeed = 140"
   ]
  },
  {
   "cell_type": "code",
   "execution_count": 11,
   "id": "5d13cf39",
   "metadata": {},
   "outputs": [],
   "source": [
    "RCNT_Topspeed_data = df[\"Rocinante 36_Top speed (km/hr)\"]"
   ]
  },
  {
   "cell_type": "code",
   "execution_count": 13,
   "id": "2d3b65c9",
   "metadata": {},
   "outputs": [
    {
     "name": "stdout",
     "output_type": "stream",
     "text": [
      "t-statistic:  0.803602305363553\n",
      "p-value:  0.43156615071637905\n"
     ]
    }
   ],
   "source": [
    "t,p = stats.ttest_1samp(RCNT_Topspeed_data, RCNT_desired_topspeed)\n",
    "print('t-statistic: ',t)\n",
    "print('p-value: ',p)"
   ]
  },
  {
   "cell_type": "markdown",
   "id": "76808880",
   "metadata": {},
   "source": [
    "### Result: Since the p-value is greater than 0.05, we fail to reject the null hypothesis. This means the top speed of the Rocinante 36 model is not significantly different from the desired specification.\n",
    "\n",
    "### For the Marengo32 model - Mileage:\n",
    "\n",
    "#### Null Hypothesis (H0): The mileage of the Marengo32 model is equal to the desired mileage.\n",
    "#### Alternate Hypothesis (H1): The mileage of the Marengo32 model is not equal to the desired mileage."
   ]
  },
  {
   "cell_type": "code",
   "execution_count": 14,
   "id": "b0513952",
   "metadata": {},
   "outputs": [],
   "source": [
    "MRNG_Desired_Mileage = 15\n",
    "MRNG_mileage_data = df[\"Marengo 32_Mileage (km/ltr)\"]"
   ]
  },
  {
   "cell_type": "code",
   "execution_count": 15,
   "id": "04b1bd2b",
   "metadata": {},
   "outputs": [
    {
     "name": "stdout",
     "output_type": "stream",
     "text": [
      "t-statistic:  1.5644592519493412\n",
      "p-value:  0.13421298678380816\n"
     ]
    }
   ],
   "source": [
    "t,p = stats.ttest_1samp(MRNG_mileage_data, MRNG_Desired_Mileage)\n",
    "print('t-statistic: ',t)\n",
    "print('p-value: ',p)"
   ]
  },
  {
   "cell_type": "markdown",
   "id": "3e63b830",
   "metadata": {},
   "source": [
    "### Result: Since the p-value is greater than 0.05, we fail to reject the null hypothesis. This means the mileage of the Marengo 32 model is not significantly different from the desired specification.\n",
    "\n",
    "### For the Marengo 32 model - Top Speed:\n",
    "\n",
    "#### Null Hypothesis (H0): The top speed of the Marengo 32 model is equal to the desired top speed.\n",
    "#### Alternate Hypothesis (H1): The top speed of the Marengo 32 model is not equal to the desired top speed."
   ]
  },
  {
   "cell_type": "code",
   "execution_count": 16,
   "id": "8f2d69d0",
   "metadata": {},
   "outputs": [],
   "source": [
    "MRNG_desired_topspeed = 210\n",
    "MRNG_Topspeed_data = df[\"Marengo 32_Top speed (km/hr)\"]"
   ]
  },
  {
   "cell_type": "code",
   "execution_count": 17,
   "id": "6e3297e7",
   "metadata": {},
   "outputs": [
    {
     "name": "stdout",
     "output_type": "stream",
     "text": [
      "t-statistic:  0.9124445171733968\n",
      "p-value:  0.3729676712183989\n"
     ]
    }
   ],
   "source": [
    "t,p = stats.ttest_1samp(MRNG_Topspeed_data, MRNG_desired_topspeed)\n",
    "print('t-statistic: ',t)\n",
    "print('p-value: ',p)"
   ]
  },
  {
   "cell_type": "markdown",
   "id": "a60ebcc0",
   "metadata": {},
   "source": [
    "#### Result: Since the p-value is greater than 0.05, we fail to reject the null hypothesis, meaning the top speed of the Marengo 32 model is not significantly different from the desired specification.\n",
    "\n",
    "#### Inference: The mileage and top speed of both the Rocinante 36 and Marengo 32 models do not significantly differ from the desired specifications."
   ]
  },
  {
   "cell_type": "markdown",
   "id": "55f0f243",
   "metadata": {},
   "source": [
    "### Q-3) You have already learnt about the possible errors that might result from hypothesis tests. Which type of error is more expensive for Random Motors, and why? Assume that you need to refund the money to all your customers if your cars do not deliver the promised specifications.\n",
    "\n",
    "#### The type of error which is more expensive: Type II Error (Failing to reject a false null hypothesis)is more expensive for Random Motors\n",
    "\n",
    "#### REASON: It would result in allowing cars that do not meet specifications to be sold, leading to refunds, loss of reputation, and customer dissatisfaction.\n",
    "\n",
    "\n",
    "### Q-4) Develop a regression equation for each model at a 95% confidence level. Using the regression equation, predict the sales of the two models. State the hypothesis assumption for the overall test and individual variables."
   ]
  },
  {
   "cell_type": "code",
   "execution_count": 18,
   "id": "21339123",
   "metadata": {},
   "outputs": [],
   "source": [
    "df1 = pd.read_excel(\"Exhibit+2.xlsx\", sheet_name='Rocinante Models')\n",
    "df2 = pd.read_excel(\"Exhibit+2.xlsx\", sheet_name='Marengo Models')"
   ]
  },
  {
   "cell_type": "code",
   "execution_count": 19,
   "id": "579b56ce",
   "metadata": {},
   "outputs": [
    {
     "data": {
      "text/html": [
       "<div>\n",
       "<style scoped>\n",
       "    .dataframe tbody tr th:only-of-type {\n",
       "        vertical-align: middle;\n",
       "    }\n",
       "\n",
       "    .dataframe tbody tr th {\n",
       "        vertical-align: top;\n",
       "    }\n",
       "\n",
       "    .dataframe thead th {\n",
       "        text-align: right;\n",
       "    }\n",
       "</style>\n",
       "<table border=\"1\" class=\"dataframe\">\n",
       "  <thead>\n",
       "    <tr style=\"text-align: right;\">\n",
       "      <th></th>\n",
       "      <th>Cars</th>\n",
       "      <th>Sales \\n(in 1,000 units)</th>\n",
       "      <th>Price\\n(in lakh rupees)</th>\n",
       "      <th>Mileage\\n(Km/ltr)</th>\n",
       "      <th>Top speed (Km/hr)</th>\n",
       "    </tr>\n",
       "  </thead>\n",
       "  <tbody>\n",
       "    <tr>\n",
       "      <th>0</th>\n",
       "      <td>Rocinante 1</td>\n",
       "      <td>171.877</td>\n",
       "      <td>6.1</td>\n",
       "      <td>15.8</td>\n",
       "      <td>168.2</td>\n",
       "    </tr>\n",
       "    <tr>\n",
       "      <th>1</th>\n",
       "      <td>Rocinante 2</td>\n",
       "      <td>139.796</td>\n",
       "      <td>6.1</td>\n",
       "      <td>12.1</td>\n",
       "      <td>149.6</td>\n",
       "    </tr>\n",
       "    <tr>\n",
       "      <th>2</th>\n",
       "      <td>Rocinante 3</td>\n",
       "      <td>178.947</td>\n",
       "      <td>9.9</td>\n",
       "      <td>17.0</td>\n",
       "      <td>173.4</td>\n",
       "    </tr>\n",
       "    <tr>\n",
       "      <th>3</th>\n",
       "      <td>Rocinante 4</td>\n",
       "      <td>140.022</td>\n",
       "      <td>5.8</td>\n",
       "      <td>11.6</td>\n",
       "      <td>170.6</td>\n",
       "    </tr>\n",
       "    <tr>\n",
       "      <th>4</th>\n",
       "      <td>Rocinante 5</td>\n",
       "      <td>186.476</td>\n",
       "      <td>10.0</td>\n",
       "      <td>17.2</td>\n",
       "      <td>175.0</td>\n",
       "    </tr>\n",
       "    <tr>\n",
       "      <th>5</th>\n",
       "      <td>Rocinante 6</td>\n",
       "      <td>192.123</td>\n",
       "      <td>6.5</td>\n",
       "      <td>17.6</td>\n",
       "      <td>173.1</td>\n",
       "    </tr>\n",
       "    <tr>\n",
       "      <th>6</th>\n",
       "      <td>Rocinante 7</td>\n",
       "      <td>175.085</td>\n",
       "      <td>5.5</td>\n",
       "      <td>16.0</td>\n",
       "      <td>184.6</td>\n",
       "    </tr>\n",
       "    <tr>\n",
       "      <th>7</th>\n",
       "      <td>Rocinante 8</td>\n",
       "      <td>146.882</td>\n",
       "      <td>8.4</td>\n",
       "      <td>13.0</td>\n",
       "      <td>175.7</td>\n",
       "    </tr>\n",
       "    <tr>\n",
       "      <th>8</th>\n",
       "      <td>Rocinante 9</td>\n",
       "      <td>202.847</td>\n",
       "      <td>6.6</td>\n",
       "      <td>19.3</td>\n",
       "      <td>166.7</td>\n",
       "    </tr>\n",
       "    <tr>\n",
       "      <th>9</th>\n",
       "      <td>Rocinante 10</td>\n",
       "      <td>149.933</td>\n",
       "      <td>8.8</td>\n",
       "      <td>13.3</td>\n",
       "      <td>175.4</td>\n",
       "    </tr>\n",
       "    <tr>\n",
       "      <th>10</th>\n",
       "      <td>Rocinante 11</td>\n",
       "      <td>171.579</td>\n",
       "      <td>9.5</td>\n",
       "      <td>15.8</td>\n",
       "      <td>150.9</td>\n",
       "    </tr>\n",
       "    <tr>\n",
       "      <th>11</th>\n",
       "      <td>Rocinante 12</td>\n",
       "      <td>201.512</td>\n",
       "      <td>9.2</td>\n",
       "      <td>19.2</td>\n",
       "      <td>140.5</td>\n",
       "    </tr>\n",
       "    <tr>\n",
       "      <th>12</th>\n",
       "      <td>Rocinante 13</td>\n",
       "      <td>142.604</td>\n",
       "      <td>8.1</td>\n",
       "      <td>11.7</td>\n",
       "      <td>150.2</td>\n",
       "    </tr>\n",
       "    <tr>\n",
       "      <th>13</th>\n",
       "      <td>Rocinante 14</td>\n",
       "      <td>135.158</td>\n",
       "      <td>5.4</td>\n",
       "      <td>11.2</td>\n",
       "      <td>146.2</td>\n",
       "    </tr>\n",
       "    <tr>\n",
       "      <th>14</th>\n",
       "      <td>Rocinante 15</td>\n",
       "      <td>107.322</td>\n",
       "      <td>5.6</td>\n",
       "      <td>7.8</td>\n",
       "      <td>151.2</td>\n",
       "    </tr>\n",
       "    <tr>\n",
       "      <th>15</th>\n",
       "      <td>Rocinante 16</td>\n",
       "      <td>199.699</td>\n",
       "      <td>6.3</td>\n",
       "      <td>19.0</td>\n",
       "      <td>143.2</td>\n",
       "    </tr>\n",
       "    <tr>\n",
       "      <th>16</th>\n",
       "      <td>Rocinante 17</td>\n",
       "      <td>202.875</td>\n",
       "      <td>5.8</td>\n",
       "      <td>19.7</td>\n",
       "      <td>178.9</td>\n",
       "    </tr>\n",
       "    <tr>\n",
       "      <th>17</th>\n",
       "      <td>Rocinante 18</td>\n",
       "      <td>204.406</td>\n",
       "      <td>7.7</td>\n",
       "      <td>19.5</td>\n",
       "      <td>168.2</td>\n",
       "    </tr>\n",
       "    <tr>\n",
       "      <th>18</th>\n",
       "      <td>Rocinante 19</td>\n",
       "      <td>107.331</td>\n",
       "      <td>7.2</td>\n",
       "      <td>7.5</td>\n",
       "      <td>164.7</td>\n",
       "    </tr>\n",
       "    <tr>\n",
       "      <th>19</th>\n",
       "      <td>Rocinante 20</td>\n",
       "      <td>190.345</td>\n",
       "      <td>8.4</td>\n",
       "      <td>18.1</td>\n",
       "      <td>182.7</td>\n",
       "    </tr>\n",
       "    <tr>\n",
       "      <th>20</th>\n",
       "      <td>Rocinante 21</td>\n",
       "      <td>108.419</td>\n",
       "      <td>8.4</td>\n",
       "      <td>7.9</td>\n",
       "      <td>165.7</td>\n",
       "    </tr>\n",
       "    <tr>\n",
       "      <th>21</th>\n",
       "      <td>Rocinante 22</td>\n",
       "      <td>150.249</td>\n",
       "      <td>5.7</td>\n",
       "      <td>12.6</td>\n",
       "      <td>137.0</td>\n",
       "    </tr>\n",
       "    <tr>\n",
       "      <th>22</th>\n",
       "      <td>Rocinante 23</td>\n",
       "      <td>155.882</td>\n",
       "      <td>5.5</td>\n",
       "      <td>12.9</td>\n",
       "      <td>173.9</td>\n",
       "    </tr>\n",
       "    <tr>\n",
       "      <th>23</th>\n",
       "      <td>Rocinante 24</td>\n",
       "      <td>100.980</td>\n",
       "      <td>8.4</td>\n",
       "      <td>7.6</td>\n",
       "      <td>165.1</td>\n",
       "    </tr>\n",
       "    <tr>\n",
       "      <th>24</th>\n",
       "      <td>Rocinante 25</td>\n",
       "      <td>182.679</td>\n",
       "      <td>5.6</td>\n",
       "      <td>16.7</td>\n",
       "      <td>160.1</td>\n",
       "    </tr>\n",
       "    <tr>\n",
       "      <th>25</th>\n",
       "      <td>Rocinante 26</td>\n",
       "      <td>166.752</td>\n",
       "      <td>9.9</td>\n",
       "      <td>15.5</td>\n",
       "      <td>155.6</td>\n",
       "    </tr>\n",
       "    <tr>\n",
       "      <th>26</th>\n",
       "      <td>Rocinante 27</td>\n",
       "      <td>121.561</td>\n",
       "      <td>6.2</td>\n",
       "      <td>9.5</td>\n",
       "      <td>155.4</td>\n",
       "    </tr>\n",
       "    <tr>\n",
       "      <th>27</th>\n",
       "      <td>Rocinante 28</td>\n",
       "      <td>174.256</td>\n",
       "      <td>9.9</td>\n",
       "      <td>16.3</td>\n",
       "      <td>161.9</td>\n",
       "    </tr>\n",
       "    <tr>\n",
       "      <th>28</th>\n",
       "      <td>Rocinante 29</td>\n",
       "      <td>119.018</td>\n",
       "      <td>6.5</td>\n",
       "      <td>9.1</td>\n",
       "      <td>146.8</td>\n",
       "    </tr>\n",
       "    <tr>\n",
       "      <th>29</th>\n",
       "      <td>Rocinante 30</td>\n",
       "      <td>169.842</td>\n",
       "      <td>7.1</td>\n",
       "      <td>15.3</td>\n",
       "      <td>149.5</td>\n",
       "    </tr>\n",
       "    <tr>\n",
       "      <th>30</th>\n",
       "      <td>Rocinante 31</td>\n",
       "      <td>198.311</td>\n",
       "      <td>9.6</td>\n",
       "      <td>19.1</td>\n",
       "      <td>146.5</td>\n",
       "    </tr>\n",
       "    <tr>\n",
       "      <th>31</th>\n",
       "      <td>Rocinante 32</td>\n",
       "      <td>204.875</td>\n",
       "      <td>5.8</td>\n",
       "      <td>19.4</td>\n",
       "      <td>178.9</td>\n",
       "    </tr>\n",
       "    <tr>\n",
       "      <th>32</th>\n",
       "      <td>Rocinante 33</td>\n",
       "      <td>119.561</td>\n",
       "      <td>6.2</td>\n",
       "      <td>9.4</td>\n",
       "      <td>175.4</td>\n",
       "    </tr>\n",
       "    <tr>\n",
       "      <th>33</th>\n",
       "      <td>Rocinante 34</td>\n",
       "      <td>203.875</td>\n",
       "      <td>5.9</td>\n",
       "      <td>19.4</td>\n",
       "      <td>175.9</td>\n",
       "    </tr>\n",
       "    <tr>\n",
       "      <th>34</th>\n",
       "      <td>Rocinante 35</td>\n",
       "      <td>118.561</td>\n",
       "      <td>6.1</td>\n",
       "      <td>9.4</td>\n",
       "      <td>165.4</td>\n",
       "    </tr>\n",
       "  </tbody>\n",
       "</table>\n",
       "</div>"
      ],
      "text/plain": [
       "            Cars  Sales \\n(in 1,000 units)  Price\\n(in lakh rupees)  \\\n",
       "0    Rocinante 1                   171.877                      6.1   \n",
       "1    Rocinante 2                   139.796                      6.1   \n",
       "2    Rocinante 3                   178.947                      9.9   \n",
       "3    Rocinante 4                   140.022                      5.8   \n",
       "4    Rocinante 5                   186.476                     10.0   \n",
       "5    Rocinante 6                   192.123                      6.5   \n",
       "6    Rocinante 7                   175.085                      5.5   \n",
       "7    Rocinante 8                   146.882                      8.4   \n",
       "8    Rocinante 9                   202.847                      6.6   \n",
       "9   Rocinante 10                   149.933                      8.8   \n",
       "10  Rocinante 11                   171.579                      9.5   \n",
       "11  Rocinante 12                   201.512                      9.2   \n",
       "12  Rocinante 13                   142.604                      8.1   \n",
       "13  Rocinante 14                   135.158                      5.4   \n",
       "14  Rocinante 15                   107.322                      5.6   \n",
       "15  Rocinante 16                   199.699                      6.3   \n",
       "16  Rocinante 17                   202.875                      5.8   \n",
       "17  Rocinante 18                   204.406                      7.7   \n",
       "18  Rocinante 19                   107.331                      7.2   \n",
       "19  Rocinante 20                   190.345                      8.4   \n",
       "20  Rocinante 21                   108.419                      8.4   \n",
       "21  Rocinante 22                   150.249                      5.7   \n",
       "22  Rocinante 23                   155.882                      5.5   \n",
       "23  Rocinante 24                   100.980                      8.4   \n",
       "24  Rocinante 25                   182.679                      5.6   \n",
       "25  Rocinante 26                   166.752                      9.9   \n",
       "26  Rocinante 27                   121.561                      6.2   \n",
       "27  Rocinante 28                   174.256                      9.9   \n",
       "28  Rocinante 29                   119.018                      6.5   \n",
       "29  Rocinante 30                   169.842                      7.1   \n",
       "30  Rocinante 31                   198.311                      9.6   \n",
       "31  Rocinante 32                   204.875                      5.8   \n",
       "32  Rocinante 33                   119.561                      6.2   \n",
       "33  Rocinante 34                   203.875                      5.9   \n",
       "34  Rocinante 35                   118.561                      6.1   \n",
       "\n",
       "    Mileage\\n(Km/ltr)  Top speed (Km/hr)  \n",
       "0                15.8              168.2  \n",
       "1                12.1              149.6  \n",
       "2                17.0              173.4  \n",
       "3                11.6              170.6  \n",
       "4                17.2              175.0  \n",
       "5                17.6              173.1  \n",
       "6                16.0              184.6  \n",
       "7                13.0              175.7  \n",
       "8                19.3              166.7  \n",
       "9                13.3              175.4  \n",
       "10               15.8              150.9  \n",
       "11               19.2              140.5  \n",
       "12               11.7              150.2  \n",
       "13               11.2              146.2  \n",
       "14                7.8              151.2  \n",
       "15               19.0              143.2  \n",
       "16               19.7              178.9  \n",
       "17               19.5              168.2  \n",
       "18                7.5              164.7  \n",
       "19               18.1              182.7  \n",
       "20                7.9              165.7  \n",
       "21               12.6              137.0  \n",
       "22               12.9              173.9  \n",
       "23                7.6              165.1  \n",
       "24               16.7              160.1  \n",
       "25               15.5              155.6  \n",
       "26                9.5              155.4  \n",
       "27               16.3              161.9  \n",
       "28                9.1              146.8  \n",
       "29               15.3              149.5  \n",
       "30               19.1              146.5  \n",
       "31               19.4              178.9  \n",
       "32                9.4              175.4  \n",
       "33               19.4              175.9  \n",
       "34                9.4              165.4  "
      ]
     },
     "execution_count": 19,
     "metadata": {},
     "output_type": "execute_result"
    }
   ],
   "source": [
    "df1"
   ]
  },
  {
   "cell_type": "code",
   "execution_count": 21,
   "id": "d9985470",
   "metadata": {},
   "outputs": [
    {
     "data": {
      "text/plain": [
       "['Cars',\n",
       " 'Sales \\n(in 1,000 units)',\n",
       " 'Price\\n(in lakh rupees)',\n",
       " 'Mileage\\n(Km/ltr)',\n",
       " 'Top speed (Km/hr)']"
      ]
     },
     "execution_count": 21,
     "metadata": {},
     "output_type": "execute_result"
    }
   ],
   "source": [
    "list(df1)"
   ]
  },
  {
   "cell_type": "markdown",
   "id": "9c4ae4f8",
   "metadata": {},
   "source": [
    "### Fitting Regression equation for Rocinante Models"
   ]
  },
  {
   "cell_type": "code",
   "execution_count": 22,
   "id": "241582ec",
   "metadata": {},
   "outputs": [
    {
     "data": {
      "text/html": [
       "<table class=\"simpletable\">\n",
       "<caption>OLS Regression Results</caption>\n",
       "<tr>\n",
       "  <th>Dep. Variable:</th>    <td>Sales \n",
       "(in 1,000 units)</td> <th>  R-squared:         </th> <td>   0.996</td>\n",
       "</tr>\n",
       "<tr>\n",
       "  <th>Model:</th>                      <td>OLS</td>           <th>  Adj. R-squared:    </th> <td>   0.995</td>\n",
       "</tr>\n",
       "<tr>\n",
       "  <th>Method:</th>                <td>Least Squares</td>      <th>  F-statistic:       </th> <td>   2430.</td>\n",
       "</tr>\n",
       "<tr>\n",
       "  <th>Date:</th>                <td>Sat, 26 Oct 2024</td>     <th>  Prob (F-statistic):</th> <td>7.45e-37</td>\n",
       "</tr>\n",
       "<tr>\n",
       "  <th>Time:</th>                    <td>17:18:24</td>         <th>  Log-Likelihood:    </th> <td> -76.809</td>\n",
       "</tr>\n",
       "<tr>\n",
       "  <th>No. Observations:</th>         <td>    35</td>          <th>  AIC:               </th> <td>   161.6</td>\n",
       "</tr>\n",
       "<tr>\n",
       "  <th>Df Residuals:</th>             <td>    31</td>          <th>  BIC:               </th> <td>   167.8</td>\n",
       "</tr>\n",
       "<tr>\n",
       "  <th>Df Model:</th>                 <td>     3</td>          <th>                     </th>     <td> </td>   \n",
       "</tr>\n",
       "<tr>\n",
       "  <th>Covariance Type:</th>         <td>nonrobust</td>        <th>                     </th>     <td> </td>   \n",
       "</tr>\n",
       "</table>\n",
       "<table class=\"simpletable\">\n",
       "<tr>\n",
       "             <td></td>               <th>coef</th>     <th>std err</th>      <th>t</th>      <th>P>|t|</th>  <th>[0.025</th>    <th>0.975]</th>  \n",
       "</tr>\n",
       "<tr>\n",
       "  <th>const</th>                  <td>   50.7231</td> <td>    5.292</td> <td>    9.585</td> <td> 0.000</td> <td>   39.930</td> <td>   61.516</td>\n",
       "</tr>\n",
       "<tr>\n",
       "  <th>Price\n",
       "(in lakh rupees)</th> <td>   -0.7950</td> <td>    0.254</td> <td>   -3.126</td> <td> 0.004</td> <td>   -1.314</td> <td>   -0.276</td>\n",
       "</tr>\n",
       "<tr>\n",
       "  <th>Mileage\n",
       "(Km/ltr)</th>       <td>    8.3063</td> <td>    0.100</td> <td>   82.913</td> <td> 0.000</td> <td>    8.102</td> <td>    8.511</td>\n",
       "</tr>\n",
       "<tr>\n",
       "  <th>Top speed (Km/hr)</th>      <td>   -0.0186</td> <td>    0.031</td> <td>   -0.608</td> <td> 0.548</td> <td>   -0.081</td> <td>    0.044</td>\n",
       "</tr>\n",
       "</table>\n",
       "<table class=\"simpletable\">\n",
       "<tr>\n",
       "  <th>Omnibus:</th>       <td> 2.817</td> <th>  Durbin-Watson:     </th> <td>   1.655</td>\n",
       "</tr>\n",
       "<tr>\n",
       "  <th>Prob(Omnibus):</th> <td> 0.245</td> <th>  Jarque-Bera (JB):  </th> <td>   2.103</td>\n",
       "</tr>\n",
       "<tr>\n",
       "  <th>Skew:</th>          <td> 0.600</td> <th>  Prob(JB):          </th> <td>   0.349</td>\n",
       "</tr>\n",
       "<tr>\n",
       "  <th>Kurtosis:</th>      <td> 3.030</td> <th>  Cond. No.          </th> <td>2.23e+03</td>\n",
       "</tr>\n",
       "</table><br/><br/>Notes:<br/>[1] Standard Errors assume that the covariance matrix of the errors is correctly specified.<br/>[2] The condition number is large, 2.23e+03. This might indicate that there are<br/>strong multicollinearity or other numerical problems."
      ],
      "text/latex": [
       "\\begin{center}\n",
       "\\begin{tabular}{lclc}\n",
       "\\toprule\n",
       "\\textbf{Dep. Variable:}         & Sales \n",
       "(in 1,000 units) & \\textbf{  R-squared:         } &     0.996   \\\\\n",
       "\\textbf{Model:}                 &           OLS           & \\textbf{  Adj. R-squared:    } &     0.995   \\\\\n",
       "\\textbf{Method:}                &      Least Squares      & \\textbf{  F-statistic:       } &     2430.   \\\\\n",
       "\\textbf{Date:}                  &     Sat, 26 Oct 2024    & \\textbf{  Prob (F-statistic):} &  7.45e-37   \\\\\n",
       "\\textbf{Time:}                  &         17:18:24        & \\textbf{  Log-Likelihood:    } &   -76.809   \\\\\n",
       "\\textbf{No. Observations:}      &              35         & \\textbf{  AIC:               } &     161.6   \\\\\n",
       "\\textbf{Df Residuals:}          &              31         & \\textbf{  BIC:               } &     167.8   \\\\\n",
       "\\textbf{Df Model:}              &               3         & \\textbf{                     } &             \\\\\n",
       "\\textbf{Covariance Type:}       &        nonrobust        & \\textbf{                     } &             \\\\\n",
       "\\bottomrule\n",
       "\\end{tabular}\n",
       "\\begin{tabular}{lcccccc}\n",
       "                                & \\textbf{coef} & \\textbf{std err} & \\textbf{t} & \\textbf{P$> |$t$|$} & \\textbf{[0.025} & \\textbf{0.975]}  \\\\\n",
       "\\midrule\n",
       "\\textbf{const}                  &      50.7231  &        5.292     &     9.585  &         0.000        &       39.930    &       61.516     \\\\\n",
       "\\textbf{Price\n",
       "(in lakh rupees)} &      -0.7950  &        0.254     &    -3.126  &         0.004        &       -1.314    &       -0.276     \\\\\n",
       "\\textbf{Mileage\n",
       "(Km/ltr)}       &       8.3063  &        0.100     &    82.913  &         0.000        &        8.102    &        8.511     \\\\\n",
       "\\textbf{Top speed (Km/hr)}      &      -0.0186  &        0.031     &    -0.608  &         0.548        &       -0.081    &        0.044     \\\\\n",
       "\\bottomrule\n",
       "\\end{tabular}\n",
       "\\begin{tabular}{lclc}\n",
       "\\textbf{Omnibus:}       &  2.817 & \\textbf{  Durbin-Watson:     } &    1.655  \\\\\n",
       "\\textbf{Prob(Omnibus):} &  0.245 & \\textbf{  Jarque-Bera (JB):  } &    2.103  \\\\\n",
       "\\textbf{Skew:}          &  0.600 & \\textbf{  Prob(JB):          } &    0.349  \\\\\n",
       "\\textbf{Kurtosis:}      &  3.030 & \\textbf{  Cond. No.          } & 2.23e+03  \\\\\n",
       "\\bottomrule\n",
       "\\end{tabular}\n",
       "%\\caption{OLS Regression Results}\n",
       "\\end{center}\n",
       "\n",
       "Notes: \\newline\n",
       " [1] Standard Errors assume that the covariance matrix of the errors is correctly specified. \\newline\n",
       " [2] The condition number is large, 2.23e+03. This might indicate that there are \\newline\n",
       " strong multicollinearity or other numerical problems."
      ],
      "text/plain": [
       "<class 'statsmodels.iolib.summary.Summary'>\n",
       "\"\"\"\n",
       "                               OLS Regression Results                              \n",
       "===================================================================================\n",
       "Dep. Variable:     Sales \n",
       "(in 1,000 units)   R-squared:                       0.996\n",
       "Model:                                 OLS   Adj. R-squared:                  0.995\n",
       "Method:                      Least Squares   F-statistic:                     2430.\n",
       "Date:                     Sat, 26 Oct 2024   Prob (F-statistic):           7.45e-37\n",
       "Time:                             17:18:24   Log-Likelihood:                -76.809\n",
       "No. Observations:                       35   AIC:                             161.6\n",
       "Df Residuals:                           31   BIC:                             167.8\n",
       "Df Model:                                3                                         \n",
       "Covariance Type:                 nonrobust                                         \n",
       "==========================================================================================\n",
       "                             coef    std err          t      P>|t|      [0.025      0.975]\n",
       "------------------------------------------------------------------------------------------\n",
       "const                     50.7231      5.292      9.585      0.000      39.930      61.516\n",
       "Price\n",
       "(in lakh rupees)    -0.7950      0.254     -3.126      0.004      -1.314      -0.276\n",
       "Mileage\n",
       "(Km/ltr)           8.3063      0.100     82.913      0.000       8.102       8.511\n",
       "Top speed (Km/hr)         -0.0186      0.031     -0.608      0.548      -0.081       0.044\n",
       "==============================================================================\n",
       "Omnibus:                        2.817   Durbin-Watson:                   1.655\n",
       "Prob(Omnibus):                  0.245   Jarque-Bera (JB):                2.103\n",
       "Skew:                           0.600   Prob(JB):                        0.349\n",
       "Kurtosis:                       3.030   Cond. No.                     2.23e+03\n",
       "==============================================================================\n",
       "\n",
       "Notes:\n",
       "[1] Standard Errors assume that the covariance matrix of the errors is correctly specified.\n",
       "[2] The condition number is large, 2.23e+03. This might indicate that there are\n",
       "strong multicollinearity or other numerical problems.\n",
       "\"\"\""
      ]
     },
     "execution_count": 22,
     "metadata": {},
     "output_type": "execute_result"
    }
   ],
   "source": [
    "import statsmodels.api as sm\n",
    "\n",
    "X = df1[['Price\\n(in lakh rupees)','Mileage\\n(Km/ltr)', 'Top speed (Km/hr)']]\n",
    "\n",
    "# Add a constant term (intercept) to the model\n",
    "X = sm.add_constant(X)\n",
    "\n",
    "# Define the dependent variable (response)\n",
    "y = df1['Sales \\n(in 1,000 units)']\n",
    "\n",
    "# Fit the regression model\n",
    "model = sm.OLS(y, X).fit()\n",
    "\n",
    "# Print the summary of the regression model\n",
    "model.summary()"
   ]
  },
  {
   "cell_type": "code",
   "execution_count": 23,
   "id": "cda8de4a",
   "metadata": {},
   "outputs": [
    {
     "name": "stdout",
     "output_type": "stream",
     "text": [
      "225.2927\n"
     ]
    }
   ],
   "source": [
    "Sales= 50.7231 - 0.7950 * 7 +8.3063 * 22  - 0.0186 * 140\n",
    "print(Sales)"
   ]
  },
  {
   "cell_type": "markdown",
   "id": "11053921",
   "metadata": {},
   "source": [
    "### Regression Equation:\n",
    "\n",
    "Sales\n",
    "=\n",
    "50.7231\n",
    "−\n",
    "0.7950\n",
    "×\n",
    "Price\n",
    "+\n",
    "8.3063\n",
    "×\n",
    "Mileage\n",
    "−\n",
    "0.0186\n",
    "×\n",
    "### Top Speed\n",
    "\n",
    "Sales=50.7231−0.7950×Price+8.3063×Mileage−0.0186×Top Speed\n",
    "Prediction: For the Rocinante 36 model, the predicted sales are 225.2927 units.\n",
    "\n",
    "Interpretation of Top Speed: The p-value for the top speed variable is greater than 0.05, indicating it is not statistically significant at the 95% confidence level and may not meaningfully predict sales in this model.\n",
    "\n",
    "#### Overall Model Significance:\n",
    "\n",
    "The F-statistic is 2430, which is very high. This suggests the model as a whole explains a significant portion of the variability in sales.\n",
    "Individual Variable Significance:\n",
    "\n",
    "Significant Predictors: Price and mileage are significant predictors of sales.\n",
    "Non-significant Predictor: Top speed does not significantly predict sales and may not contribute effectively to the model."
   ]
  },
  {
   "cell_type": "markdown",
   "id": "6355b2a9",
   "metadata": {},
   "source": [
    "### Fitting the regression equation by conisdering price and milage variables"
   ]
  },
  {
   "cell_type": "code",
   "execution_count": 24,
   "id": "1c5182e9",
   "metadata": {},
   "outputs": [
    {
     "data": {
      "text/html": [
       "<table class=\"simpletable\">\n",
       "<caption>OLS Regression Results</caption>\n",
       "<tr>\n",
       "  <th>Dep. Variable:</th>    <td>Sales \n",
       "(in 1,000 units)</td> <th>  R-squared:         </th> <td>   0.996</td>\n",
       "</tr>\n",
       "<tr>\n",
       "  <th>Model:</th>                      <td>OLS</td>           <th>  Adj. R-squared:    </th> <td>   0.995</td>\n",
       "</tr>\n",
       "<tr>\n",
       "  <th>Method:</th>                <td>Least Squares</td>      <th>  F-statistic:       </th> <td>   3718.</td>\n",
       "</tr>\n",
       "<tr>\n",
       "  <th>Date:</th>                <td>Sat, 26 Oct 2024</td>     <th>  Prob (F-statistic):</th> <td>1.29e-38</td>\n",
       "</tr>\n",
       "<tr>\n",
       "  <th>Time:</th>                    <td>17:21:14</td>         <th>  Log-Likelihood:    </th> <td> -77.017</td>\n",
       "</tr>\n",
       "<tr>\n",
       "  <th>No. Observations:</th>         <td>    35</td>          <th>  AIC:               </th> <td>   160.0</td>\n",
       "</tr>\n",
       "<tr>\n",
       "  <th>Df Residuals:</th>             <td>    32</td>          <th>  BIC:               </th> <td>   164.7</td>\n",
       "</tr>\n",
       "<tr>\n",
       "  <th>Df Model:</th>                 <td>     2</td>          <th>                     </th>     <td> </td>   \n",
       "</tr>\n",
       "<tr>\n",
       "  <th>Covariance Type:</th>         <td>nonrobust</td>        <th>                     </th>     <td> </td>   \n",
       "</tr>\n",
       "</table>\n",
       "<table class=\"simpletable\">\n",
       "<tr>\n",
       "             <td></td>               <th>coef</th>     <th>std err</th>      <th>t</th>      <th>P>|t|</th>  <th>[0.025</th>    <th>0.975]</th>  \n",
       "</tr>\n",
       "<tr>\n",
       "  <th>const</th>                  <td>   47.7800</td> <td>    2.113</td> <td>   22.608</td> <td> 0.000</td> <td>   43.475</td> <td>   52.085</td>\n",
       "</tr>\n",
       "<tr>\n",
       "  <th>Price\n",
       "(in lakh rupees)</th> <td>   -0.7829</td> <td>    0.251</td> <td>   -3.119</td> <td> 0.004</td> <td>   -1.294</td> <td>   -0.272</td>\n",
       "</tr>\n",
       "<tr>\n",
       "  <th>Mileage\n",
       "(Km/ltr)</th>       <td>    8.2945</td> <td>    0.097</td> <td>   85.257</td> <td> 0.000</td> <td>    8.096</td> <td>    8.493</td>\n",
       "</tr>\n",
       "</table>\n",
       "<table class=\"simpletable\">\n",
       "<tr>\n",
       "  <th>Omnibus:</th>       <td> 1.906</td> <th>  Durbin-Watson:     </th> <td>   1.656</td>\n",
       "</tr>\n",
       "<tr>\n",
       "  <th>Prob(Omnibus):</th> <td> 0.386</td> <th>  Jarque-Bera (JB):  </th> <td>   1.567</td>\n",
       "</tr>\n",
       "<tr>\n",
       "  <th>Skew:</th>          <td> 0.509</td> <th>  Prob(JB):          </th> <td>   0.457</td>\n",
       "</tr>\n",
       "<tr>\n",
       "  <th>Kurtosis:</th>      <td> 2.805</td> <th>  Cond. No.          </th> <td>    91.0</td>\n",
       "</tr>\n",
       "</table><br/><br/>Notes:<br/>[1] Standard Errors assume that the covariance matrix of the errors is correctly specified."
      ],
      "text/latex": [
       "\\begin{center}\n",
       "\\begin{tabular}{lclc}\n",
       "\\toprule\n",
       "\\textbf{Dep. Variable:}         & Sales \n",
       "(in 1,000 units) & \\textbf{  R-squared:         } &     0.996   \\\\\n",
       "\\textbf{Model:}                 &           OLS           & \\textbf{  Adj. R-squared:    } &     0.995   \\\\\n",
       "\\textbf{Method:}                &      Least Squares      & \\textbf{  F-statistic:       } &     3718.   \\\\\n",
       "\\textbf{Date:}                  &     Sat, 26 Oct 2024    & \\textbf{  Prob (F-statistic):} &  1.29e-38   \\\\\n",
       "\\textbf{Time:}                  &         17:21:14        & \\textbf{  Log-Likelihood:    } &   -77.017   \\\\\n",
       "\\textbf{No. Observations:}      &              35         & \\textbf{  AIC:               } &     160.0   \\\\\n",
       "\\textbf{Df Residuals:}          &              32         & \\textbf{  BIC:               } &     164.7   \\\\\n",
       "\\textbf{Df Model:}              &               2         & \\textbf{                     } &             \\\\\n",
       "\\textbf{Covariance Type:}       &        nonrobust        & \\textbf{                     } &             \\\\\n",
       "\\bottomrule\n",
       "\\end{tabular}\n",
       "\\begin{tabular}{lcccccc}\n",
       "                                & \\textbf{coef} & \\textbf{std err} & \\textbf{t} & \\textbf{P$> |$t$|$} & \\textbf{[0.025} & \\textbf{0.975]}  \\\\\n",
       "\\midrule\n",
       "\\textbf{const}                  &      47.7800  &        2.113     &    22.608  &         0.000        &       43.475    &       52.085     \\\\\n",
       "\\textbf{Price\n",
       "(in lakh rupees)} &      -0.7829  &        0.251     &    -3.119  &         0.004        &       -1.294    &       -0.272     \\\\\n",
       "\\textbf{Mileage\n",
       "(Km/ltr)}       &       8.2945  &        0.097     &    85.257  &         0.000        &        8.096    &        8.493     \\\\\n",
       "\\bottomrule\n",
       "\\end{tabular}\n",
       "\\begin{tabular}{lclc}\n",
       "\\textbf{Omnibus:}       &  1.906 & \\textbf{  Durbin-Watson:     } &    1.656  \\\\\n",
       "\\textbf{Prob(Omnibus):} &  0.386 & \\textbf{  Jarque-Bera (JB):  } &    1.567  \\\\\n",
       "\\textbf{Skew:}          &  0.509 & \\textbf{  Prob(JB):          } &    0.457  \\\\\n",
       "\\textbf{Kurtosis:}      &  2.805 & \\textbf{  Cond. No.          } &     91.0  \\\\\n",
       "\\bottomrule\n",
       "\\end{tabular}\n",
       "%\\caption{OLS Regression Results}\n",
       "\\end{center}\n",
       "\n",
       "Notes: \\newline\n",
       " [1] Standard Errors assume that the covariance matrix of the errors is correctly specified."
      ],
      "text/plain": [
       "<class 'statsmodels.iolib.summary.Summary'>\n",
       "\"\"\"\n",
       "                               OLS Regression Results                              \n",
       "===================================================================================\n",
       "Dep. Variable:     Sales \n",
       "(in 1,000 units)   R-squared:                       0.996\n",
       "Model:                                 OLS   Adj. R-squared:                  0.995\n",
       "Method:                      Least Squares   F-statistic:                     3718.\n",
       "Date:                     Sat, 26 Oct 2024   Prob (F-statistic):           1.29e-38\n",
       "Time:                             17:21:14   Log-Likelihood:                -77.017\n",
       "No. Observations:                       35   AIC:                             160.0\n",
       "Df Residuals:                           32   BIC:                             164.7\n",
       "Df Model:                                2                                         \n",
       "Covariance Type:                 nonrobust                                         \n",
       "==========================================================================================\n",
       "                             coef    std err          t      P>|t|      [0.025      0.975]\n",
       "------------------------------------------------------------------------------------------\n",
       "const                     47.7800      2.113     22.608      0.000      43.475      52.085\n",
       "Price\n",
       "(in lakh rupees)    -0.7829      0.251     -3.119      0.004      -1.294      -0.272\n",
       "Mileage\n",
       "(Km/ltr)           8.2945      0.097     85.257      0.000       8.096       8.493\n",
       "==============================================================================\n",
       "Omnibus:                        1.906   Durbin-Watson:                   1.656\n",
       "Prob(Omnibus):                  0.386   Jarque-Bera (JB):                1.567\n",
       "Skew:                           0.509   Prob(JB):                        0.457\n",
       "Kurtosis:                       2.805   Cond. No.                         91.0\n",
       "==============================================================================\n",
       "\n",
       "Notes:\n",
       "[1] Standard Errors assume that the covariance matrix of the errors is correctly specified.\n",
       "\"\"\""
      ]
     },
     "execution_count": 24,
     "metadata": {},
     "output_type": "execute_result"
    }
   ],
   "source": [
    "X = df1[['Price\\n(in lakh rupees)','Mileage\\n(Km/ltr)']]\n",
    "\n",
    "# Add a constant term (intercept) to the model\n",
    "X = sm.add_constant(X)\n",
    "\n",
    "# Define the dependent variable (response)\n",
    "y = df1['Sales \\n(in 1,000 units)']\n",
    "\n",
    "# Fit the regression model\n",
    "model = sm.OLS(y, X).fit()\n",
    "\n",
    "# Print the summary of the regression model\n",
    "model.summary()"
   ]
  },
  {
   "cell_type": "markdown",
   "id": "b1670f66",
   "metadata": {},
   "source": [
    "#### Overall Significance:\n",
    "The F-statistic of 3718 is extremely high, indicating that the model explains a substantial amount of the variability in the dependent variable.\n",
    "\n",
    "Individual variable\n",
    "Significant Variables: Both Price and Mileage are significant predictors of the dependent variable.\n",
    "\n",
    "Regression equation : Sales = 47.7800 - 0.7829(price) + 8.2945 mileage"
   ]
  },
  {
   "cell_type": "code",
   "execution_count": 25,
   "id": "a038cebc",
   "metadata": {},
   "outputs": [
    {
     "name": "stdout",
     "output_type": "stream",
     "text": [
      "224.7787\n"
     ]
    }
   ],
   "source": [
    "#if price = 7 lakhs and mileage = 140 km/lt\n",
    "Sales  =47.7800 -0.7829 * 7 + 8.2945 * 22\n",
    "print(Sales)"
   ]
  },
  {
   "cell_type": "markdown",
   "id": "cadfbbc9",
   "metadata": {},
   "source": [
    "#### Sales of Rocinante 36 = 224.7787 \\n(in 1,000 units)"
   ]
  },
  {
   "cell_type": "markdown",
   "id": "129e2235",
   "metadata": {},
   "source": [
    "### c) Increase the input values by 5% and check the sales"
   ]
  },
  {
   "cell_type": "code",
   "execution_count": 27,
   "id": "404f8083",
   "metadata": {},
   "outputs": [
    {
     "name": "stdout",
     "output_type": "stream",
     "text": [
      "7.3500000000000005\n",
      "23.1\n",
      "147.0\n"
     ]
    }
   ],
   "source": [
    "# Sales=50.7231−0.7950×Price+8.3063×Mileage−0.0186×Top Speed\n",
    "price = 7 * 1.05\n",
    "mileage = 22 * 1.05\n",
    "top_speed = 140 *1.05\n",
    "print(price)\n",
    "print(mileage)\n",
    "print(top_speed)"
   ]
  },
  {
   "cell_type": "code",
   "execution_count": 28,
   "id": "cf9bbb50",
   "metadata": {},
   "outputs": [
    {
     "name": "stdout",
     "output_type": "stream",
     "text": [
      "234.02118000000004\n"
     ]
    }
   ],
   "source": [
    "Sales = 50.7231 - 0.7950 * 7.3500000000000005 + 8.3063 * 23.1 - 0.0186 * 147\n",
    "print(Sales)"
   ]
  },
  {
   "cell_type": "markdown",
   "id": "cdee79d5",
   "metadata": {},
   "source": [
    "### Sales of Rocinante36 if the value of inputs increased by 5% = 234.02 /n(in 10000 units)"
   ]
  },
  {
   "cell_type": "markdown",
   "id": "58008285",
   "metadata": {},
   "source": [
    "### c) Decrease the input values by 5% and check the sales"
   ]
  },
  {
   "cell_type": "code",
   "execution_count": 30,
   "id": "bbeeaa75",
   "metadata": {},
   "outputs": [
    {
     "name": "stdout",
     "output_type": "stream",
     "text": [
      "6.6499999999999995\n",
      "20.9\n",
      "133.0\n"
     ]
    }
   ],
   "source": [
    "# Sales=50.7231−0.7950×Price+8.3063×Mileage−0.0186×Top Speed\n",
    "price = 7 * 0.95\n",
    "mileage = 22 * 0.95\n",
    "top_speed = 140 * 0.95\n",
    "print(price)\n",
    "print(mileage)\n",
    "print(top_speed)"
   ]
  },
  {
   "cell_type": "code",
   "execution_count": 31,
   "id": "8e683d0f",
   "metadata": {},
   "outputs": [
    {
     "name": "stdout",
     "output_type": "stream",
     "text": [
      "216.56421999999998\n"
     ]
    }
   ],
   "source": [
    "Sales = 50.7231 - 0.7950 * 6.6499999999999995 + 8.3063 * 20.9 - 0.0186 * 133\n",
    "print(Sales)"
   ]
  },
  {
   "cell_type": "markdown",
   "id": "9bc4cbea",
   "metadata": {},
   "source": [
    "### Sales of Rocinante36 if the value of inputs decreased by 5% = 216.56/n(in 10000 units)"
   ]
  },
  {
   "cell_type": "markdown",
   "id": "15807d12",
   "metadata": {},
   "source": [
    "### ASSUMPTIONS CHECK\n",
    "1. Error term is normally distributed with mean 0 and constant variance\n",
    "Normality of Residuals (Mean 0):"
   ]
  },
  {
   "cell_type": "code",
   "execution_count": 32,
   "id": "fe6d95ee",
   "metadata": {},
   "outputs": [
    {
     "data": {
      "image/png": "[encoded data removed]",
      "text/plain": [
       "<Figure size 640x480 with 1 Axes>"
      ]
     },
     "metadata": {},
     "output_type": "display_data"
    },
    {
     "name": "stdout",
     "output_type": "stream",
     "text": [
      "Shapiro-Wilk test statistic: 0.9628714919090271, p-value: 0.2783476710319519\n",
      "Jarque-Bera test statistic: 2.102711171530054, p-value: 0.3494636998596165\n"
     ]
    }
   ],
   "source": [
    "import statsmodels.api as sm\n",
    "import matplotlib.pyplot as plt\n",
    "from scipy.stats import shapiro, jarque_bera\n",
    "\n",
    "# Fit the model\n",
    "X = sm.add_constant(df1[['Price\\n(in lakh rupees)','Mileage\\n(Km/ltr)','Top speed (Km/hr)']])\n",
    "model = sm.OLS(df1['Sales \\n(in 1,000 units)'], X).fit()\n",
    "\n",
    "# Get residuals\n",
    "residuals = model.resid\n",
    "\n",
    "# Q-Q plot\n",
    "sm.qqplot(residuals, line='s')\n",
    "plt.title('Q-Q Plot of Residuals')\n",
    "plt.show()\n",
    "\n",
    "# Shapiro-Wilk Test for normality\n",
    "shapiro_test = shapiro(residuals)\n",
    "print(f'Shapiro-Wilk test statistic: {shapiro_test.statistic}, p-value: {shapiro_test.pvalue}')\n",
    "\n",
    "# Jarque-Bera test\n",
    "jb_test = jarque_bera(residuals)\n",
    "print(f'Jarque-Bera test statistic: {jb_test[0]}, p-value: {jb_test[1]}')"
   ]
  },
  {
   "cell_type": "markdown",
   "id": "b951d2d6",
   "metadata": {},
   "source": [
    "### INTERPRETATION - AS the p-value from these tests is > 0.05, the residuals are assumed to be normally distributed."
   ]
  },
  {
   "cell_type": "markdown",
   "id": "25edcfea",
   "metadata": {},
   "source": [
    "### Homoscedasticity (Constant Variance):"
   ]
  },
  {
   "cell_type": "code",
   "execution_count": 33,
   "id": "940fb62c",
   "metadata": {},
   "outputs": [
    {
     "data": {
      "image/png": "[encoded data removed]",
      "text/plain": [
       "<Figure size 640x480 with 1 Axes>"
      ]
     },
     "metadata": {},
     "output_type": "display_data"
    },
    {
     "name": "stdout",
     "output_type": "stream",
     "text": [
      "Breusch-Pagan test statistic: 1.7884283456542343, p-value: 0.6174562893155056\n"
     ]
    }
   ],
   "source": [
    "import seaborn as sns\n",
    "from statsmodels.stats.diagnostic import het_breuschpagan\n",
    "\n",
    "# Residuals vs. fitted values plot\n",
    "fitted_values = model.fittedvalues\n",
    "sns.residplot(x=fitted_values, y=residuals, lowess=True, line_kws={'color': 'red'})\n",
    "plt.title('Residuals vs Fitted Values')\n",
    "plt.show()\n",
    "\n",
    "# Breusch-Pagan test\n",
    "bp_test = het_breuschpagan(residuals, model.model.exog)\n",
    "print(f'Breusch-Pagan test statistic: {bp_test[0]}, p-value: {bp_test[1]}')"
   ]
  },
  {
   "cell_type": "markdown",
   "id": "ea48fbc2",
   "metadata": {},
   "source": [
    "### RESULT : For the Breusch-Pagan test, as the p-value is > 0.05, then homoscedasticity can be assumed.\n",
    "## 2. Input Variables are Independent of Each Other (No Multicollinearity)"
   ]
  },
  {
   "cell_type": "code",
   "execution_count": 34,
   "id": "0932fd6c",
   "metadata": {},
   "outputs": [
    {
     "name": "stdout",
     "output_type": "stream",
     "text": [
      "                   feature         VIF\n",
      "0                    const  184.048148\n",
      "1  Price\\n(in lakh rupees)    1.042167\n",
      "2        Mileage\\n(Km/ltr)    1.076662\n",
      "3        Top speed (Km/hr)    1.041262\n"
     ]
    }
   ],
   "source": [
    "from statsmodels.stats.outliers_influence import variance_inflation_factor\n",
    "\n",
    "# Calculate VIF for each independent variable\n",
    "vif_data = pd.DataFrame()\n",
    "vif_data['feature'] = X.columns\n",
    "vif_data['VIF'] = [variance_inflation_factor(X.values, i) for i in range(X.shape[1])]\n",
    "\n",
    "print(vif_data)"
   ]
  },
  {
   "cell_type": "markdown",
   "id": "eb759a07",
   "metadata": {},
   "source": [
    "### RESULT: AS VIF value of all the variables are < 5, there is no exist of multicolinearity"
   ]
  },
  {
   "cell_type": "markdown",
   "id": "46ad9f84",
   "metadata": {},
   "source": [
    "### 3. Successive Error Terms are Independent (No Autocorrelation)"
   ]
  },
  {
   "cell_type": "code",
   "execution_count": 35,
   "id": "564bc15c",
   "metadata": {},
   "outputs": [
    {
     "name": "stdout",
     "output_type": "stream",
     "text": [
      "Durbin-Watson statistic: 1.6547723984064442\n"
     ]
    }
   ],
   "source": [
    "from statsmodels.stats.stattools import durbin_watson\n",
    "\n",
    "# Durbin-Watson test for autocorrelation\n",
    "dw_stat = durbin_watson(residuals)\n",
    "print(f'Durbin-Watson statistic: {dw_stat}')"
   ]
  },
  {
   "cell_type": "markdown",
   "id": "2fea54cc",
   "metadata": {},
   "source": [
    "### RESULT: As Durbin-Watson statistic value is between 1.5 and 2.5 suggests no significant autocorrelation in the residuals."
   ]
  },
  {
   "cell_type": "markdown",
   "id": "4e700b07",
   "metadata": {},
   "source": [
    "## 4. Specification Bias (Correct Model Specification)"
   ]
  },
  {
   "cell_type": "code",
   "execution_count": 36,
   "id": "0ff863ce",
   "metadata": {},
   "outputs": [
    {
     "name": "stdout",
     "output_type": "stream",
     "text": [
      "Ramsey RESET test statistic: 0.1800797051113392, p-value: 0.8361304418861749\n"
     ]
    }
   ],
   "source": [
    "from statsmodels.stats.outliers_influence import reset_ramsey\n",
    "\n",
    "# Ramsey RESET test\n",
    "reset_test = reset_ramsey(model, degree=3)\n",
    "print(f'Ramsey RESET test statistic: {reset_test.fvalue}, p-value: {reset_test.pvalue}')"
   ]
  },
  {
   "cell_type": "markdown",
   "id": "0e1c99d8",
   "metadata": {},
   "source": [
    "### RESULT: As the p-value is > 0.05, the model is correctly specified\n",
    " ## Identify Outliers in Independent Variables (Leverage or Hat Diagonal)"
   ]
  },
  {
   "cell_type": "code",
   "execution_count": 37,
   "id": "d27ca8fd",
   "metadata": {},
   "outputs": [
    {
     "name": "stdout",
     "output_type": "stream",
     "text": [
      "High leverage points (outliers in X): []\n"
     ]
    }
   ],
   "source": [
    "# Get the influence measures (hat diagonal)\n",
    "influence = model.get_influence()\n",
    "hat_values = influence.hat_matrix_diag\n",
    "\n",
    "# Set a threshold for identifying high-leverage points (rule of thumb: 2*(k+1)/n, where k = number of predictors)\n",
    "n = len(df)\n",
    "k = X.shape[1] - 1  # number of predictors excluding the intercept\n",
    "leverage_threshold = 2 * (k + 1) / n\n",
    "\n",
    "# Identify high-leverage points\n",
    "high_leverage_points = np.where(hat_values > leverage_threshold)[0]\n",
    "\n",
    "print(f\"High leverage points (outliers in X): {high_leverage_points}\")"
   ]
  },
  {
   "cell_type": "markdown",
   "id": "a1c4b193",
   "metadata": {},
   "source": [
    "### Identify Outliers in Dependent Variables (Studentized Residuals)"
   ]
  },
  {
   "cell_type": "code",
   "execution_count": 38,
   "id": "573519c1",
   "metadata": {},
   "outputs": [
    {
     "name": "stdout",
     "output_type": "stream",
     "text": [
      "Outliers in Y (studentized residuals): []\n"
     ]
    }
   ],
   "source": [
    "# Get the studentized residuals\n",
    "studentized_residuals = influence.resid_studentized_external\n",
    "\n",
    "# Set a threshold for identifying outliers in Y (commonly used threshold: |residual| > 3)\n",
    "student_residuals_threshold = 3\n",
    "\n",
    "# Identify outliers in the dependent variable\n",
    "outliers_in_y = np.where(np.abs(studentized_residuals) > student_residuals_threshold)[0]\n",
    "\n",
    "print(f\"Outliers in Y (studentized residuals): {outliers_in_y}\")"
   ]
  },
  {
   "cell_type": "markdown",
   "id": "9ef99ba6",
   "metadata": {},
   "source": [
    "## Fitting Regression equation for Marengo Models"
   ]
  },
  {
   "cell_type": "code",
   "execution_count": 39,
   "id": "bc6dd664",
   "metadata": {},
   "outputs": [
    {
     "data": {
      "text/html": [
       "<div>\n",
       "<style scoped>\n",
       "    .dataframe tbody tr th:only-of-type {\n",
       "        vertical-align: middle;\n",
       "    }\n",
       "\n",
       "    .dataframe tbody tr th {\n",
       "        vertical-align: top;\n",
       "    }\n",
       "\n",
       "    .dataframe thead th {\n",
       "        text-align: right;\n",
       "    }\n",
       "</style>\n",
       "<table border=\"1\" class=\"dataframe\">\n",
       "  <thead>\n",
       "    <tr style=\"text-align: right;\">\n",
       "      <th></th>\n",
       "      <th>Cars</th>\n",
       "      <th>Sales \\n(in 1,000 units)</th>\n",
       "      <th>Price\\n(in lakh rupees)</th>\n",
       "      <th>Mileage\\n(Km/ltr)</th>\n",
       "      <th>Top speed (Km/hr)</th>\n",
       "    </tr>\n",
       "  </thead>\n",
       "  <tbody>\n",
       "    <tr>\n",
       "      <th>0</th>\n",
       "      <td>Marengo 1</td>\n",
       "      <td>20.896</td>\n",
       "      <td>42.5</td>\n",
       "      <td>9.3</td>\n",
       "      <td>199.4</td>\n",
       "    </tr>\n",
       "    <tr>\n",
       "      <th>1</th>\n",
       "      <td>Marengo 2</td>\n",
       "      <td>31.048</td>\n",
       "      <td>36.0</td>\n",
       "      <td>9.7</td>\n",
       "      <td>235.2</td>\n",
       "    </tr>\n",
       "    <tr>\n",
       "      <th>2</th>\n",
       "      <td>Marengo 3</td>\n",
       "      <td>29.904</td>\n",
       "      <td>54.7</td>\n",
       "      <td>16.6</td>\n",
       "      <td>240.8</td>\n",
       "    </tr>\n",
       "    <tr>\n",
       "      <th>3</th>\n",
       "      <td>Marengo 4</td>\n",
       "      <td>28.792</td>\n",
       "      <td>42.7</td>\n",
       "      <td>11.7</td>\n",
       "      <td>232.5</td>\n",
       "    </tr>\n",
       "    <tr>\n",
       "      <th>4</th>\n",
       "      <td>Marengo 5</td>\n",
       "      <td>16.776</td>\n",
       "      <td>44.9</td>\n",
       "      <td>13.7</td>\n",
       "      <td>188.8</td>\n",
       "    </tr>\n",
       "    <tr>\n",
       "      <th>5</th>\n",
       "      <td>Marengo 6</td>\n",
       "      <td>18.928</td>\n",
       "      <td>35.5</td>\n",
       "      <td>9.6</td>\n",
       "      <td>184.2</td>\n",
       "    </tr>\n",
       "    <tr>\n",
       "      <th>6</th>\n",
       "      <td>Marengo 7</td>\n",
       "      <td>22.776</td>\n",
       "      <td>51.3</td>\n",
       "      <td>13.7</td>\n",
       "      <td>207.7</td>\n",
       "    </tr>\n",
       "    <tr>\n",
       "      <th>7</th>\n",
       "      <td>Marengo 8</td>\n",
       "      <td>36.824</td>\n",
       "      <td>30.4</td>\n",
       "      <td>12.6</td>\n",
       "      <td>249.5</td>\n",
       "    </tr>\n",
       "    <tr>\n",
       "      <th>8</th>\n",
       "      <td>Marengo 9</td>\n",
       "      <td>22.216</td>\n",
       "      <td>38.4</td>\n",
       "      <td>16.2</td>\n",
       "      <td>175.8</td>\n",
       "    </tr>\n",
       "    <tr>\n",
       "      <th>9</th>\n",
       "      <td>Marengo 10</td>\n",
       "      <td>35.456</td>\n",
       "      <td>32.2</td>\n",
       "      <td>9.6</td>\n",
       "      <td>245.6</td>\n",
       "    </tr>\n",
       "    <tr>\n",
       "      <th>10</th>\n",
       "      <td>Marengo 11</td>\n",
       "      <td>28.576</td>\n",
       "      <td>59.4</td>\n",
       "      <td>11.3</td>\n",
       "      <td>223.3</td>\n",
       "    </tr>\n",
       "    <tr>\n",
       "      <th>11</th>\n",
       "      <td>Marengo 12</td>\n",
       "      <td>33.648</td>\n",
       "      <td>50.8</td>\n",
       "      <td>13.6</td>\n",
       "      <td>240.0</td>\n",
       "    </tr>\n",
       "    <tr>\n",
       "      <th>12</th>\n",
       "      <td>Marengo 13</td>\n",
       "      <td>33.440</td>\n",
       "      <td>57.5</td>\n",
       "      <td>13.5</td>\n",
       "      <td>250.0</td>\n",
       "    </tr>\n",
       "    <tr>\n",
       "      <th>13</th>\n",
       "      <td>Marengo 14</td>\n",
       "      <td>34.912</td>\n",
       "      <td>44.6</td>\n",
       "      <td>11.1</td>\n",
       "      <td>247.4</td>\n",
       "    </tr>\n",
       "    <tr>\n",
       "      <th>14</th>\n",
       "      <td>Marengo 15</td>\n",
       "      <td>24.016</td>\n",
       "      <td>34.6</td>\n",
       "      <td>14.1</td>\n",
       "      <td>192.0</td>\n",
       "    </tr>\n",
       "    <tr>\n",
       "      <th>15</th>\n",
       "      <td>Marengo 16</td>\n",
       "      <td>20.992</td>\n",
       "      <td>56.4</td>\n",
       "      <td>13.4</td>\n",
       "      <td>201.2</td>\n",
       "    </tr>\n",
       "    <tr>\n",
       "      <th>16</th>\n",
       "      <td>Marengo 17</td>\n",
       "      <td>21.696</td>\n",
       "      <td>41.4</td>\n",
       "      <td>12.8</td>\n",
       "      <td>193.3</td>\n",
       "    </tr>\n",
       "    <tr>\n",
       "      <th>17</th>\n",
       "      <td>Marengo 18</td>\n",
       "      <td>17.832</td>\n",
       "      <td>53.7</td>\n",
       "      <td>16.0</td>\n",
       "      <td>202.0</td>\n",
       "    </tr>\n",
       "    <tr>\n",
       "      <th>18</th>\n",
       "      <td>Marengo 19</td>\n",
       "      <td>25.624</td>\n",
       "      <td>44.8</td>\n",
       "      <td>12.7</td>\n",
       "      <td>208.9</td>\n",
       "    </tr>\n",
       "    <tr>\n",
       "      <th>19</th>\n",
       "      <td>Marengo 20</td>\n",
       "      <td>21.920</td>\n",
       "      <td>32.4</td>\n",
       "      <td>13.6</td>\n",
       "      <td>176.9</td>\n",
       "    </tr>\n",
       "    <tr>\n",
       "      <th>20</th>\n",
       "      <td>Marengo 21</td>\n",
       "      <td>24.792</td>\n",
       "      <td>40.9</td>\n",
       "      <td>11.6</td>\n",
       "      <td>218.2</td>\n",
       "    </tr>\n",
       "    <tr>\n",
       "      <th>21</th>\n",
       "      <td>Marengo 22</td>\n",
       "      <td>22.256</td>\n",
       "      <td>44.1</td>\n",
       "      <td>11.4</td>\n",
       "      <td>190.0</td>\n",
       "    </tr>\n",
       "    <tr>\n",
       "      <th>22</th>\n",
       "      <td>Marengo 23</td>\n",
       "      <td>15.488</td>\n",
       "      <td>46.6</td>\n",
       "      <td>16.3</td>\n",
       "      <td>176.8</td>\n",
       "    </tr>\n",
       "    <tr>\n",
       "      <th>23</th>\n",
       "      <td>Marengo 24</td>\n",
       "      <td>21.640</td>\n",
       "      <td>31.4</td>\n",
       "      <td>14.5</td>\n",
       "      <td>178.9</td>\n",
       "    </tr>\n",
       "    <tr>\n",
       "      <th>24</th>\n",
       "      <td>Marengo 25</td>\n",
       "      <td>23.264</td>\n",
       "      <td>54.7</td>\n",
       "      <td>14.3</td>\n",
       "      <td>192.3</td>\n",
       "    </tr>\n",
       "    <tr>\n",
       "      <th>25</th>\n",
       "      <td>Marengo 26</td>\n",
       "      <td>19.328</td>\n",
       "      <td>37.9</td>\n",
       "      <td>9.4</td>\n",
       "      <td>184.1</td>\n",
       "    </tr>\n",
       "    <tr>\n",
       "      <th>26</th>\n",
       "      <td>Marengo 27</td>\n",
       "      <td>27.216</td>\n",
       "      <td>52.9</td>\n",
       "      <td>15.3</td>\n",
       "      <td>240.3</td>\n",
       "    </tr>\n",
       "    <tr>\n",
       "      <th>27</th>\n",
       "      <td>Marengo 28</td>\n",
       "      <td>23.096</td>\n",
       "      <td>42.7</td>\n",
       "      <td>15.0</td>\n",
       "      <td>192.1</td>\n",
       "    </tr>\n",
       "    <tr>\n",
       "      <th>28</th>\n",
       "      <td>Marengo 29</td>\n",
       "      <td>17.824</td>\n",
       "      <td>54.9</td>\n",
       "      <td>13.5</td>\n",
       "      <td>199.0</td>\n",
       "    </tr>\n",
       "    <tr>\n",
       "      <th>29</th>\n",
       "      <td>Marengo 30</td>\n",
       "      <td>19.144</td>\n",
       "      <td>44.0</td>\n",
       "      <td>11.8</td>\n",
       "      <td>181.1</td>\n",
       "    </tr>\n",
       "    <tr>\n",
       "      <th>30</th>\n",
       "      <td>Marengo 31</td>\n",
       "      <td>21.600</td>\n",
       "      <td>42.2</td>\n",
       "      <td>9.3</td>\n",
       "      <td>181.2</td>\n",
       "    </tr>\n",
       "  </tbody>\n",
       "</table>\n",
       "</div>"
      ],
      "text/plain": [
       "          Cars  Sales \\n(in 1,000 units)  Price\\n(in lakh rupees)  \\\n",
       "0    Marengo 1                    20.896                     42.5   \n",
       "1    Marengo 2                    31.048                     36.0   \n",
       "2    Marengo 3                    29.904                     54.7   \n",
       "3    Marengo 4                    28.792                     42.7   \n",
       "4    Marengo 5                    16.776                     44.9   \n",
       "5    Marengo 6                    18.928                     35.5   \n",
       "6    Marengo 7                    22.776                     51.3   \n",
       "7    Marengo 8                    36.824                     30.4   \n",
       "8    Marengo 9                    22.216                     38.4   \n",
       "9   Marengo 10                    35.456                     32.2   \n",
       "10  Marengo 11                    28.576                     59.4   \n",
       "11  Marengo 12                    33.648                     50.8   \n",
       "12  Marengo 13                    33.440                     57.5   \n",
       "13  Marengo 14                    34.912                     44.6   \n",
       "14  Marengo 15                    24.016                     34.6   \n",
       "15  Marengo 16                    20.992                     56.4   \n",
       "16  Marengo 17                    21.696                     41.4   \n",
       "17  Marengo 18                    17.832                     53.7   \n",
       "18  Marengo 19                    25.624                     44.8   \n",
       "19  Marengo 20                    21.920                     32.4   \n",
       "20  Marengo 21                    24.792                     40.9   \n",
       "21  Marengo 22                    22.256                     44.1   \n",
       "22  Marengo 23                    15.488                     46.6   \n",
       "23  Marengo 24                    21.640                     31.4   \n",
       "24  Marengo 25                    23.264                     54.7   \n",
       "25  Marengo 26                    19.328                     37.9   \n",
       "26  Marengo 27                    27.216                     52.9   \n",
       "27  Marengo 28                    23.096                     42.7   \n",
       "28  Marengo 29                    17.824                     54.9   \n",
       "29  Marengo 30                    19.144                     44.0   \n",
       "30  Marengo 31                    21.600                     42.2   \n",
       "\n",
       "    Mileage\\n(Km/ltr)  Top speed (Km/hr)  \n",
       "0                 9.3              199.4  \n",
       "1                 9.7              235.2  \n",
       "2                16.6              240.8  \n",
       "3                11.7              232.5  \n",
       "4                13.7              188.8  \n",
       "5                 9.6              184.2  \n",
       "6                13.7              207.7  \n",
       "7                12.6              249.5  \n",
       "8                16.2              175.8  \n",
       "9                 9.6              245.6  \n",
       "10               11.3              223.3  \n",
       "11               13.6              240.0  \n",
       "12               13.5              250.0  \n",
       "13               11.1              247.4  \n",
       "14               14.1              192.0  \n",
       "15               13.4              201.2  \n",
       "16               12.8              193.3  \n",
       "17               16.0              202.0  \n",
       "18               12.7              208.9  \n",
       "19               13.6              176.9  \n",
       "20               11.6              218.2  \n",
       "21               11.4              190.0  \n",
       "22               16.3              176.8  \n",
       "23               14.5              178.9  \n",
       "24               14.3              192.3  \n",
       "25                9.4              184.1  \n",
       "26               15.3              240.3  \n",
       "27               15.0              192.1  \n",
       "28               13.5              199.0  \n",
       "29               11.8              181.1  \n",
       "30                9.3              181.2  "
      ]
     },
     "execution_count": 39,
     "metadata": {},
     "output_type": "execute_result"
    }
   ],
   "source": [
    "df2"
   ]
  },
  {
   "cell_type": "code",
   "execution_count": 40,
   "id": "03413421",
   "metadata": {},
   "outputs": [
    {
     "data": {
      "text/plain": [
       "['Cars',\n",
       " 'Sales \\n(in 1,000 units)',\n",
       " 'Price\\n(in lakh rupees)',\n",
       " 'Mileage\\n(Km/ltr)',\n",
       " 'Top speed (Km/hr)']"
      ]
     },
     "execution_count": 40,
     "metadata": {},
     "output_type": "execute_result"
    }
   ],
   "source": [
    "list(df2)"
   ]
  },
  {
   "cell_type": "code",
   "execution_count": 41,
   "id": "e5612d0c",
   "metadata": {},
   "outputs": [
    {
     "data": {
      "text/html": [
       "<table class=\"simpletable\">\n",
       "<caption>OLS Regression Results</caption>\n",
       "<tr>\n",
       "  <th>Dep. Variable:</th>    <td>Sales \n",
       "(in 1,000 units)</td> <th>  R-squared:         </th> <td>   0.863</td>\n",
       "</tr>\n",
       "<tr>\n",
       "  <th>Model:</th>                      <td>OLS</td>           <th>  Adj. R-squared:    </th> <td>   0.848</td>\n",
       "</tr>\n",
       "<tr>\n",
       "  <th>Method:</th>                <td>Least Squares</td>      <th>  F-statistic:       </th> <td>   56.74</td>\n",
       "</tr>\n",
       "<tr>\n",
       "  <th>Date:</th>                <td>Sat, 26 Oct 2024</td>     <th>  Prob (F-statistic):</th> <td>8.74e-12</td>\n",
       "</tr>\n",
       "<tr>\n",
       "  <th>Time:</th>                    <td>17:30:14</td>         <th>  Log-Likelihood:    </th> <td> -67.757</td>\n",
       "</tr>\n",
       "<tr>\n",
       "  <th>No. Observations:</th>         <td>    31</td>          <th>  AIC:               </th> <td>   143.5</td>\n",
       "</tr>\n",
       "<tr>\n",
       "  <th>Df Residuals:</th>             <td>    27</td>          <th>  BIC:               </th> <td>   149.2</td>\n",
       "</tr>\n",
       "<tr>\n",
       "  <th>Df Model:</th>                 <td>     3</td>          <th>                     </th>     <td> </td>   \n",
       "</tr>\n",
       "<tr>\n",
       "  <th>Covariance Type:</th>         <td>nonrobust</td>        <th>                     </th>     <td> </td>   \n",
       "</tr>\n",
       "</table>\n",
       "<table class=\"simpletable\">\n",
       "<tr>\n",
       "             <td></td>               <th>coef</th>     <th>std err</th>      <th>t</th>      <th>P>|t|</th>  <th>[0.025</th>    <th>0.975]</th>  \n",
       "</tr>\n",
       "<tr>\n",
       "  <th>const</th>                  <td>  -13.4476</td> <td>    4.454</td> <td>   -3.019</td> <td> 0.005</td> <td>  -22.586</td> <td>   -4.309</td>\n",
       "</tr>\n",
       "<tr>\n",
       "  <th>Price\n",
       "(in lakh rupees)</th> <td>   -0.1867</td> <td>    0.055</td> <td>   -3.368</td> <td> 0.002</td> <td>   -0.300</td> <td>   -0.073</td>\n",
       "</tr>\n",
       "<tr>\n",
       "  <th>Mileage\n",
       "(Km/ltr)</th>       <td>    0.0413</td> <td>    0.207</td> <td>    0.200</td> <td> 0.843</td> <td>   -0.383</td> <td>    0.465</td>\n",
       "</tr>\n",
       "<tr>\n",
       "  <th>Top speed (Km/hr)</th>      <td>    0.2208</td> <td>    0.017</td> <td>   12.820</td> <td> 0.000</td> <td>    0.185</td> <td>    0.256</td>\n",
       "</tr>\n",
       "</table>\n",
       "<table class=\"simpletable\">\n",
       "<tr>\n",
       "  <th>Omnibus:</th>       <td> 2.082</td> <th>  Durbin-Watson:     </th> <td>   1.649</td>\n",
       "</tr>\n",
       "<tr>\n",
       "  <th>Prob(Omnibus):</th> <td> 0.353</td> <th>  Jarque-Bera (JB):  </th> <td>   1.181</td>\n",
       "</tr>\n",
       "<tr>\n",
       "  <th>Skew:</th>          <td>-0.071</td> <th>  Prob(JB):          </th> <td>   0.554</td>\n",
       "</tr>\n",
       "<tr>\n",
       "  <th>Kurtosis:</th>      <td> 2.054</td> <th>  Cond. No.          </th> <td>2.30e+03</td>\n",
       "</tr>\n",
       "</table><br/><br/>Notes:<br/>[1] Standard Errors assume that the covariance matrix of the errors is correctly specified.<br/>[2] The condition number is large, 2.3e+03. This might indicate that there are<br/>strong multicollinearity or other numerical problems."
      ],
      "text/latex": [
       "\\begin{center}\n",
       "\\begin{tabular}{lclc}\n",
       "\\toprule\n",
       "\\textbf{Dep. Variable:}         & Sales \n",
       "(in 1,000 units) & \\textbf{  R-squared:         } &     0.863   \\\\\n",
       "\\textbf{Model:}                 &           OLS           & \\textbf{  Adj. R-squared:    } &     0.848   \\\\\n",
       "\\textbf{Method:}                &      Least Squares      & \\textbf{  F-statistic:       } &     56.74   \\\\\n",
       "\\textbf{Date:}                  &     Sat, 26 Oct 2024    & \\textbf{  Prob (F-statistic):} &  8.74e-12   \\\\\n",
       "\\textbf{Time:}                  &         17:30:14        & \\textbf{  Log-Likelihood:    } &   -67.757   \\\\\n",
       "\\textbf{No. Observations:}      &              31         & \\textbf{  AIC:               } &     143.5   \\\\\n",
       "\\textbf{Df Residuals:}          &              27         & \\textbf{  BIC:               } &     149.2   \\\\\n",
       "\\textbf{Df Model:}              &               3         & \\textbf{                     } &             \\\\\n",
       "\\textbf{Covariance Type:}       &        nonrobust        & \\textbf{                     } &             \\\\\n",
       "\\bottomrule\n",
       "\\end{tabular}\n",
       "\\begin{tabular}{lcccccc}\n",
       "                                & \\textbf{coef} & \\textbf{std err} & \\textbf{t} & \\textbf{P$> |$t$|$} & \\textbf{[0.025} & \\textbf{0.975]}  \\\\\n",
       "\\midrule\n",
       "\\textbf{const}                  &     -13.4476  &        4.454     &    -3.019  &         0.005        &      -22.586    &       -4.309     \\\\\n",
       "\\textbf{Price\n",
       "(in lakh rupees)} &      -0.1867  &        0.055     &    -3.368  &         0.002        &       -0.300    &       -0.073     \\\\\n",
       "\\textbf{Mileage\n",
       "(Km/ltr)}       &       0.0413  &        0.207     &     0.200  &         0.843        &       -0.383    &        0.465     \\\\\n",
       "\\textbf{Top speed (Km/hr)}      &       0.2208  &        0.017     &    12.820  &         0.000        &        0.185    &        0.256     \\\\\n",
       "\\bottomrule\n",
       "\\end{tabular}\n",
       "\\begin{tabular}{lclc}\n",
       "\\textbf{Omnibus:}       &  2.082 & \\textbf{  Durbin-Watson:     } &    1.649  \\\\\n",
       "\\textbf{Prob(Omnibus):} &  0.353 & \\textbf{  Jarque-Bera (JB):  } &    1.181  \\\\\n",
       "\\textbf{Skew:}          & -0.071 & \\textbf{  Prob(JB):          } &    0.554  \\\\\n",
       "\\textbf{Kurtosis:}      &  2.054 & \\textbf{  Cond. No.          } & 2.30e+03  \\\\\n",
       "\\bottomrule\n",
       "\\end{tabular}\n",
       "%\\caption{OLS Regression Results}\n",
       "\\end{center}\n",
       "\n",
       "Notes: \\newline\n",
       " [1] Standard Errors assume that the covariance matrix of the errors is correctly specified. \\newline\n",
       " [2] The condition number is large, 2.3e+03. This might indicate that there are \\newline\n",
       " strong multicollinearity or other numerical problems."
      ],
      "text/plain": [
       "<class 'statsmodels.iolib.summary.Summary'>\n",
       "\"\"\"\n",
       "                               OLS Regression Results                              \n",
       "===================================================================================\n",
       "Dep. Variable:     Sales \n",
       "(in 1,000 units)   R-squared:                       0.863\n",
       "Model:                                 OLS   Adj. R-squared:                  0.848\n",
       "Method:                      Least Squares   F-statistic:                     56.74\n",
       "Date:                     Sat, 26 Oct 2024   Prob (F-statistic):           8.74e-12\n",
       "Time:                             17:30:14   Log-Likelihood:                -67.757\n",
       "No. Observations:                       31   AIC:                             143.5\n",
       "Df Residuals:                           27   BIC:                             149.2\n",
       "Df Model:                                3                                         \n",
       "Covariance Type:                 nonrobust                                         \n",
       "==========================================================================================\n",
       "                             coef    std err          t      P>|t|      [0.025      0.975]\n",
       "------------------------------------------------------------------------------------------\n",
       "const                    -13.4476      4.454     -3.019      0.005     -22.586      -4.309\n",
       "Price\n",
       "(in lakh rupees)    -0.1867      0.055     -3.368      0.002      -0.300      -0.073\n",
       "Mileage\n",
       "(Km/ltr)           0.0413      0.207      0.200      0.843      -0.383       0.465\n",
       "Top speed (Km/hr)          0.2208      0.017     12.820      0.000       0.185       0.256\n",
       "==============================================================================\n",
       "Omnibus:                        2.082   Durbin-Watson:                   1.649\n",
       "Prob(Omnibus):                  0.353   Jarque-Bera (JB):                1.181\n",
       "Skew:                          -0.071   Prob(JB):                        0.554\n",
       "Kurtosis:                       2.054   Cond. No.                     2.30e+03\n",
       "==============================================================================\n",
       "\n",
       "Notes:\n",
       "[1] Standard Errors assume that the covariance matrix of the errors is correctly specified.\n",
       "[2] The condition number is large, 2.3e+03. This might indicate that there are\n",
       "strong multicollinearity or other numerical problems.\n",
       "\"\"\""
      ]
     },
     "execution_count": 41,
     "metadata": {},
     "output_type": "execute_result"
    }
   ],
   "source": [
    "X = df2[['Price\\n(in lakh rupees)','Mileage\\n(Km/ltr)', 'Top speed (Km/hr)']]\n",
    "\n",
    "# Add a constant term (intercept) to the model\n",
    "X = sm.add_constant(X)\n",
    "\n",
    "# Define the dependent variable (response)\n",
    "y = df2['Sales \\n(in 1,000 units)']\n",
    "\n",
    "# Fit the regression model\n",
    "model = sm.OLS(y, X).fit()\n",
    "\n",
    "# Print the summary of the regression model\n",
    "model.summary()"
   ]
  },
  {
   "cell_type": "code",
   "execution_count": 42,
   "id": "f6c459d0",
   "metadata": {},
   "outputs": [
    {
     "name": "stdout",
     "output_type": "stream",
     "text": [
      "25.8852\n"
     ]
    }
   ],
   "source": [
    "Sales= -13.4476 - 0.1867*41+ 0.0413*15 + 0.2208*210\n",
    "print(Sales)"
   ]
  },
  {
   "cell_type": "markdown",
   "id": "63bdfe85",
   "metadata": {},
   "source": [
    "### Regression equation : Sales= -13.4476 - 0.1867×Price+ 0.0413×Mileage + 0.2208×Top Speed\n",
    "\n",
    "#### Predicted sales for Marengo32 model is 25.8852 units\n",
    "\n",
    "#### but p-value of mileage is greater than 0.05, indicating that mileage is not a statistically significant predictor of sales at the 95% confidence level."
   ]
  },
  {
   "cell_type": "markdown",
   "id": "27893c73",
   "metadata": {},
   "source": [
    "#### Overall Significance:\n",
    "The F-statistic of 56.74 is relatively high, suggesting that the regression model is a good fit for the data and indicates that the independent variables explain a significant amount of the variability in the dependent variable.\n",
    "\n",
    "Individual variable\n",
    "Price and Top Speed are significant predictors of the dependent variable. Mileage is not significant, indicating it does not have a meaningful effect on the dependent variable in this model."
   ]
  },
  {
   "cell_type": "markdown",
   "id": "66ba7288",
   "metadata": {},
   "source": [
    "### Fitting the regression equation by conisdering price and top speed variables"
   ]
  },
  {
   "cell_type": "code",
   "execution_count": 43,
   "id": "51c75937",
   "metadata": {},
   "outputs": [
    {
     "data": {
      "text/html": [
       "<table class=\"simpletable\">\n",
       "<caption>OLS Regression Results</caption>\n",
       "<tr>\n",
       "  <th>Dep. Variable:</th>    <td>Sales \n",
       "(in 1,000 units)</td> <th>  R-squared:         </th> <td>   0.863</td>\n",
       "</tr>\n",
       "<tr>\n",
       "  <th>Model:</th>                      <td>OLS</td>           <th>  Adj. R-squared:    </th> <td>   0.853</td>\n",
       "</tr>\n",
       "<tr>\n",
       "  <th>Method:</th>                <td>Least Squares</td>      <th>  F-statistic:       </th> <td>   88.10</td>\n",
       "</tr>\n",
       "<tr>\n",
       "  <th>Date:</th>                <td>Sat, 26 Oct 2024</td>     <th>  Prob (F-statistic):</th> <td>8.30e-13</td>\n",
       "</tr>\n",
       "<tr>\n",
       "  <th>Time:</th>                    <td>19:00:05</td>         <th>  Log-Likelihood:    </th> <td> -67.779</td>\n",
       "</tr>\n",
       "<tr>\n",
       "  <th>No. Observations:</th>         <td>    31</td>          <th>  AIC:               </th> <td>   141.6</td>\n",
       "</tr>\n",
       "<tr>\n",
       "  <th>Df Residuals:</th>             <td>    28</td>          <th>  BIC:               </th> <td>   145.9</td>\n",
       "</tr>\n",
       "<tr>\n",
       "  <th>Df Model:</th>                 <td>     2</td>          <th>                     </th>     <td> </td>   \n",
       "</tr>\n",
       "<tr>\n",
       "  <th>Covariance Type:</th>         <td>nonrobust</td>        <th>                     </th>     <td> </td>   \n",
       "</tr>\n",
       "</table>\n",
       "<table class=\"simpletable\">\n",
       "<tr>\n",
       "             <td></td>               <th>coef</th>     <th>std err</th>      <th>t</th>      <th>P>|t|</th>  <th>[0.025</th>    <th>0.975]</th>  \n",
       "</tr>\n",
       "<tr>\n",
       "  <th>const</th>                  <td>  -12.9701</td> <td>    3.694</td> <td>   -3.511</td> <td> 0.002</td> <td>  -20.536</td> <td>   -5.404</td>\n",
       "</tr>\n",
       "<tr>\n",
       "  <th>Price\n",
       "(in lakh rupees)</th> <td>   -0.1825</td> <td>    0.050</td> <td>   -3.627</td> <td> 0.001</td> <td>   -0.286</td> <td>   -0.079</td>\n",
       "</tr>\n",
       "<tr>\n",
       "  <th>Top speed (Km/hr)</th>      <td>    0.2201</td> <td>    0.017</td> <td>   13.254</td> <td> 0.000</td> <td>    0.186</td> <td>    0.254</td>\n",
       "</tr>\n",
       "</table>\n",
       "<table class=\"simpletable\">\n",
       "<tr>\n",
       "  <th>Omnibus:</th>       <td> 2.394</td> <th>  Durbin-Watson:     </th> <td>   1.650</td>\n",
       "</tr>\n",
       "<tr>\n",
       "  <th>Prob(Omnibus):</th> <td> 0.302</td> <th>  Jarque-Bera (JB):  </th> <td>   1.258</td>\n",
       "</tr>\n",
       "<tr>\n",
       "  <th>Skew:</th>          <td>-0.059</td> <th>  Prob(JB):          </th> <td>   0.533</td>\n",
       "</tr>\n",
       "<tr>\n",
       "  <th>Kurtosis:</th>      <td> 2.020</td> <th>  Cond. No.          </th> <td>1.94e+03</td>\n",
       "</tr>\n",
       "</table><br/><br/>Notes:<br/>[1] Standard Errors assume that the covariance matrix of the errors is correctly specified.<br/>[2] The condition number is large, 1.94e+03. This might indicate that there are<br/>strong multicollinearity or other numerical problems."
      ],
      "text/latex": [
       "\\begin{center}\n",
       "\\begin{tabular}{lclc}\n",
       "\\toprule\n",
       "\\textbf{Dep. Variable:}         & Sales \n",
       "(in 1,000 units) & \\textbf{  R-squared:         } &     0.863   \\\\\n",
       "\\textbf{Model:}                 &           OLS           & \\textbf{  Adj. R-squared:    } &     0.853   \\\\\n",
       "\\textbf{Method:}                &      Least Squares      & \\textbf{  F-statistic:       } &     88.10   \\\\\n",
       "\\textbf{Date:}                  &     Sat, 26 Oct 2024    & \\textbf{  Prob (F-statistic):} &  8.30e-13   \\\\\n",
       "\\textbf{Time:}                  &         19:00:05        & \\textbf{  Log-Likelihood:    } &   -67.779   \\\\\n",
       "\\textbf{No. Observations:}      &              31         & \\textbf{  AIC:               } &     141.6   \\\\\n",
       "\\textbf{Df Residuals:}          &              28         & \\textbf{  BIC:               } &     145.9   \\\\\n",
       "\\textbf{Df Model:}              &               2         & \\textbf{                     } &             \\\\\n",
       "\\textbf{Covariance Type:}       &        nonrobust        & \\textbf{                     } &             \\\\\n",
       "\\bottomrule\n",
       "\\end{tabular}\n",
       "\\begin{tabular}{lcccccc}\n",
       "                                & \\textbf{coef} & \\textbf{std err} & \\textbf{t} & \\textbf{P$> |$t$|$} & \\textbf{[0.025} & \\textbf{0.975]}  \\\\\n",
       "\\midrule\n",
       "\\textbf{const}                  &     -12.9701  &        3.694     &    -3.511  &         0.002        &      -20.536    &       -5.404     \\\\\n",
       "\\textbf{Price\n",
       "(in lakh rupees)} &      -0.1825  &        0.050     &    -3.627  &         0.001        &       -0.286    &       -0.079     \\\\\n",
       "\\textbf{Top speed (Km/hr)}      &       0.2201  &        0.017     &    13.254  &         0.000        &        0.186    &        0.254     \\\\\n",
       "\\bottomrule\n",
       "\\end{tabular}\n",
       "\\begin{tabular}{lclc}\n",
       "\\textbf{Omnibus:}       &  2.394 & \\textbf{  Durbin-Watson:     } &    1.650  \\\\\n",
       "\\textbf{Prob(Omnibus):} &  0.302 & \\textbf{  Jarque-Bera (JB):  } &    1.258  \\\\\n",
       "\\textbf{Skew:}          & -0.059 & \\textbf{  Prob(JB):          } &    0.533  \\\\\n",
       "\\textbf{Kurtosis:}      &  2.020 & \\textbf{  Cond. No.          } & 1.94e+03  \\\\\n",
       "\\bottomrule\n",
       "\\end{tabular}\n",
       "%\\caption{OLS Regression Results}\n",
       "\\end{center}\n",
       "\n",
       "Notes: \\newline\n",
       " [1] Standard Errors assume that the covariance matrix of the errors is correctly specified. \\newline\n",
       " [2] The condition number is large, 1.94e+03. This might indicate that there are \\newline\n",
       " strong multicollinearity or other numerical problems."
      ],
      "text/plain": [
       "<class 'statsmodels.iolib.summary.Summary'>\n",
       "\"\"\"\n",
       "                               OLS Regression Results                              \n",
       "===================================================================================\n",
       "Dep. Variable:     Sales \n",
       "(in 1,000 units)   R-squared:                       0.863\n",
       "Model:                                 OLS   Adj. R-squared:                  0.853\n",
       "Method:                      Least Squares   F-statistic:                     88.10\n",
       "Date:                     Sat, 26 Oct 2024   Prob (F-statistic):           8.30e-13\n",
       "Time:                             19:00:05   Log-Likelihood:                -67.779\n",
       "No. Observations:                       31   AIC:                             141.6\n",
       "Df Residuals:                           28   BIC:                             145.9\n",
       "Df Model:                                2                                         \n",
       "Covariance Type:                 nonrobust                                         \n",
       "==========================================================================================\n",
       "                             coef    std err          t      P>|t|      [0.025      0.975]\n",
       "------------------------------------------------------------------------------------------\n",
       "const                    -12.9701      3.694     -3.511      0.002     -20.536      -5.404\n",
       "Price\n",
       "(in lakh rupees)    -0.1825      0.050     -3.627      0.001      -0.286      -0.079\n",
       "Top speed (Km/hr)          0.2201      0.017     13.254      0.000       0.186       0.254\n",
       "==============================================================================\n",
       "Omnibus:                        2.394   Durbin-Watson:                   1.650\n",
       "Prob(Omnibus):                  0.302   Jarque-Bera (JB):                1.258\n",
       "Skew:                          -0.059   Prob(JB):                        0.533\n",
       "Kurtosis:                       2.020   Cond. No.                     1.94e+03\n",
       "==============================================================================\n",
       "\n",
       "Notes:\n",
       "[1] Standard Errors assume that the covariance matrix of the errors is correctly specified.\n",
       "[2] The condition number is large, 1.94e+03. This might indicate that there are\n",
       "strong multicollinearity or other numerical problems.\n",
       "\"\"\""
      ]
     },
     "execution_count": 43,
     "metadata": {},
     "output_type": "execute_result"
    }
   ],
   "source": [
    "X = df2[['Price\\n(in lakh rupees)', 'Top speed (Km/hr)']]\n",
    "\n",
    "# Add a constant term (intercept) to the model\n",
    "X = sm.add_constant(X)\n",
    "\n",
    "# Define the dependent variable (response)\n",
    "y = df2['Sales \\n(in 1,000 units)']\n",
    "\n",
    "# Fit the regression model\n",
    "model = sm.OLS(y, X).fit()\n",
    "\n",
    "# Print the summary of the regression model\n",
    "model.summary()"
   ]
  },
  {
   "cell_type": "markdown",
   "id": "a98b1359",
   "metadata": {},
   "source": [
    "### Regression Equation: Sales = -12.9701 -0.1825(price) + 0.2201(top speed)\n",
    "Overall Significance:\n",
    "The F-statistic of 88.10 suggests that the regression model explains a significant amount of the variability in the dependent variable. A higher F-statistic indicates a stronger relationship between the dependent variable and the independent variables.\n",
    "\n",
    "Individual variable\n",
    "Significant Variables: Both Price and Top Speed are significant predictors of the dependent variable. Intercept: The intercept is also significant and indicates the baseline level of the dependent variable."
   ]
  },
  {
   "cell_type": "code",
   "execution_count": 44,
   "id": "21467813",
   "metadata": {},
   "outputs": [
    {
     "name": "stdout",
     "output_type": "stream",
     "text": [
      "25.768399999999996\n"
     ]
    }
   ],
   "source": [
    "#if price = 41 lakhs and top speed = 210 km/hr\n",
    "Sales  = -12.9701 -0.1825* 41 + 0.2201 * 210\n",
    "print(Sales)"
   ]
  },
  {
   "cell_type": "markdown",
   "id": "5bcf0929",
   "metadata": {},
   "source": [
    " ### Sales of Marengo 32 = 25.768399999999996\\n(in 1,000 units)"
   ]
  },
  {
   "cell_type": "markdown",
   "id": "e75db480",
   "metadata": {},
   "source": [
    "### c) Increase the input values by 5% and check the sales"
   ]
  },
  {
   "cell_type": "code",
   "execution_count": 46,
   "id": "6f61d831",
   "metadata": {},
   "outputs": [
    {
     "name": "stdout",
     "output_type": "stream",
     "text": [
      "43.050000000000004\n",
      "15.75\n",
      "220.5\n"
     ]
    }
   ],
   "source": [
    "# Sales= -13.4476 - 0.1867×Price+ 0.0413×Mileage + 0.2208×Top Speed\n",
    "price = 41 * 1.05\n",
    "mileage = 15* 1.05\n",
    "speed = 210 * 1.05\n",
    "print(price)\n",
    "print(mileage)\n",
    "print(speed)"
   ]
  },
  {
   "cell_type": "code",
   "execution_count": 47,
   "id": "1a07b2ad",
   "metadata": {},
   "outputs": [
    {
     "name": "stdout",
     "output_type": "stream",
     "text": [
      "27.85184\n"
     ]
    }
   ],
   "source": [
    " Sales= -13.4476 - 0.1867 * 43.050000000000004 + 0.0413 * 15.75  + 0.2208 * 220.5\n",
    "print(Sales)"
   ]
  },
  {
   "cell_type": "markdown",
   "id": "7d806a47",
   "metadata": {},
   "source": [
    "### Predicted Sales of Marengo 32 if input is increased by 5% = 27.85184\\n(in 1,000 units)\n",
    "## d) Decrease the input values by 5% and check the sales"
   ]
  },
  {
   "cell_type": "code",
   "execution_count": 48,
   "id": "6e9f20bf",
   "metadata": {},
   "outputs": [
    {
     "name": "stdout",
     "output_type": "stream",
     "text": [
      "38.949999999999996\n",
      "14.25\n",
      "199.5\n"
     ]
    }
   ],
   "source": [
    "# Sales= -13.4476 - 0.1867×Price+ 0.0413×Mileage + 0.2208×Top Speed\n",
    "price = 41 * 0.95\n",
    "mileage = 15* 0.95\n",
    "speed = 210 * 0.95\n",
    "print(price)\n",
    "print(mileage)\n",
    "print(speed)"
   ]
  },
  {
   "cell_type": "code",
   "execution_count": 49,
   "id": "debb9331",
   "metadata": {},
   "outputs": [
    {
     "name": "stdout",
     "output_type": "stream",
     "text": [
      "23.91856\n"
     ]
    }
   ],
   "source": [
    " Sales= -13.4476 - 0.1867 * 38.949999999999996 + 0.0413 * 14.25 + 0.2208 * 199.5\n",
    "print(Sales)"
   ]
  },
  {
   "cell_type": "markdown",
   "id": "d42a5db0",
   "metadata": {},
   "source": [
    "### Predicted Sales of Marengo 32 if input is decreased by 5% = 23.91856\\n(in 1,000 units)\n",
    "ASSUMPTIONS CHECK\n",
    "1. Error term is normally distributed with mean 0 and constant variance\n",
    "a.Normality of Residuals (Mean 0):"
   ]
  },
  {
   "cell_type": "code",
   "execution_count": 50,
   "id": "655a34d5",
   "metadata": {},
   "outputs": [
    {
     "data": {
      "image/png": "[encoded data removed]",
      "text/plain": [
       "<Figure size 640x480 with 1 Axes>"
      ]
     },
     "metadata": {},
     "output_type": "display_data"
    },
    {
     "name": "stdout",
     "output_type": "stream",
     "text": [
      "Shapiro-Wilk test statistic: 0.9717198014259338, p-value: 0.5675449371337891\n",
      "Jarque-Bera test statistic: 1.1811473023479788, p-value: 0.554009385427218\n"
     ]
    }
   ],
   "source": [
    "import statsmodels.api as sm\n",
    "import matplotlib.pyplot as plt\n",
    "from scipy.stats import shapiro, jarque_bera\n",
    "\n",
    "# Fit the model\n",
    "X = sm.add_constant(df2[['Price\\n(in lakh rupees)','Mileage\\n(Km/ltr)','Top speed (Km/hr)']])\n",
    "model = sm.OLS(df2['Sales \\n(in 1,000 units)'], X).fit()\n",
    "\n",
    "# Get residuals\n",
    "residuals = model.resid\n",
    "\n",
    "# Q-Q plot\n",
    "sm.qqplot(residuals, line='s')\n",
    "plt.title('Q-Q Plot of Residuals')\n",
    "plt.show()\n",
    "\n",
    "# Shapiro-Wilk Test for normality\n",
    "shapiro_test = shapiro(residuals)\n",
    "print(f'Shapiro-Wilk test statistic: {shapiro_test.statistic}, p-value: {shapiro_test.pvalue}')\n",
    "\n",
    "# Jarque-Bera test\n",
    "jb_test = jarque_bera(residuals)\n",
    "print(f'Jarque-Bera test statistic: {jb_test[0]}, p-value: {jb_test[1]}')"
   ]
  },
  {
   "cell_type": "markdown",
   "id": "f465d61e",
   "metadata": {},
   "source": [
    "### RESULT - AS the p-value from these tests is > 0.05, the residuals are assumed to be normally distributed.\n",
    "## b. Homoscedasticity (Constant Variance):"
   ]
  },
  {
   "cell_type": "code",
   "execution_count": 51,
   "id": "1e4fc3bf",
   "metadata": {},
   "outputs": [
    {
     "data": {
      "image/png": "[encoded data removed]",
      "text/plain": [
       "<Figure size 640x480 with 1 Axes>"
      ]
     },
     "metadata": {},
     "output_type": "display_data"
    },
    {
     "name": "stdout",
     "output_type": "stream",
     "text": [
      "Breusch-Pagan test statistic: 7.394947338592965, p-value: 0.060320039874715715\n"
     ]
    }
   ],
   "source": [
    "# Residuals vs. fitted values plot\n",
    "fitted_values = model.fittedvalues\n",
    "sns.residplot(x=fitted_values, y=residuals, lowess=True, line_kws={'color': 'red'})\n",
    "plt.title('Residuals vs Fitted Values')\n",
    "plt.show()\n",
    "\n",
    "# Breusch-Pagan test\n",
    "bp_test = het_breuschpagan(residuals, model.model.exog)\n",
    "print(f'Breusch-Pagan test statistic: {bp_test[0]}, p-value: {bp_test[1]}')"
   ]
  },
  {
   "cell_type": "markdown",
   "id": "1f78037e",
   "metadata": {},
   "source": [
    "### RESULT : For the Breusch-Pagan test, as the p-value is > 0.05, then homoscedasticity can be assumed.\n",
    "## 2. Input Variables are Independent of Each Other (No Multicollinearity)"
   ]
  },
  {
   "cell_type": "code",
   "execution_count": 52,
   "id": "9d9ef0c4",
   "metadata": {},
   "outputs": [
    {
     "name": "stdout",
     "output_type": "stream",
     "text": [
      "                   feature         VIF\n",
      "0                    const  115.565519\n",
      "1  Price\\n(in lakh rupees)    1.232176\n",
      "2        Mileage\\n(Km/ltr)    1.184425\n",
      "3        Top speed (Km/hr)    1.090848\n"
     ]
    }
   ],
   "source": [
    "# Calculate VIF for each independent variable\n",
    "vif_data = pd.DataFrame()\n",
    "vif_data['feature'] = X.columns\n",
    "vif_data['VIF'] = [variance_inflation_factor(X.values, i) for i in range(X.shape[1])]\n",
    "\n",
    "print(vif_data)"
   ]
  },
  {
   "cell_type": "markdown",
   "id": "3cd1cfa4",
   "metadata": {},
   "source": [
    "### RESULT: AS VIF value of all the variables are < 5, there is no exist of multicolinearity\n",
    "## 3. Successive Error Terms are Independent (No Autocorrelation)"
   ]
  },
  {
   "cell_type": "code",
   "execution_count": 53,
   "id": "c0a4cb01",
   "metadata": {},
   "outputs": [
    {
     "name": "stdout",
     "output_type": "stream",
     "text": [
      "Durbin-Watson statistic: 1.6492894303731782\n"
     ]
    }
   ],
   "source": [
    "# Durbin-Watson test for autocorrelation\n",
    "dw_stat = durbin_watson(residuals)\n",
    "print(f'Durbin-Watson statistic: {dw_stat}')"
   ]
  },
  {
   "cell_type": "markdown",
   "id": "c40b52c9",
   "metadata": {},
   "source": [
    "### RESULT: As Durbin-Watson statistic value is between 1.5 and 2.5 suggests no significant autocorrelation in the residuals.\n",
    "## 4. Specification Bias (Correct Model Specification)"
   ]
  },
  {
   "cell_type": "code",
   "execution_count": 54,
   "id": "da04f85e",
   "metadata": {},
   "outputs": [
    {
     "name": "stdout",
     "output_type": "stream",
     "text": [
      "Ramsey RESET test statistic: 0.3919691193068531, p-value: 0.6798051582842308\n"
     ]
    }
   ],
   "source": [
    "from statsmodels.stats.outliers_influence import reset_ramsey\n",
    "\n",
    "# Ramsey RESET test\n",
    "reset_test = reset_ramsey(model, degree=3)\n",
    "print(f'Ramsey RESET test statistic: {reset_test.fvalue}, p-value: {reset_test.pvalue}')"
   ]
  },
  {
   "cell_type": "markdown",
   "id": "7430c4f4",
   "metadata": {},
   "source": [
    "#### RESULT: As the p-value is > 0.05, the model is correctly specified.\n",
    "### Identify Outliers in Independent Variables (Leverage or Hat Diagonal)"
   ]
  },
  {
   "cell_type": "code",
   "execution_count": 57,
   "id": "7876c449",
   "metadata": {},
   "outputs": [
    {
     "name": "stdout",
     "output_type": "stream",
     "text": [
      "High leverage points (outliers in X): []\n"
     ]
    }
   ],
   "source": [
    "# Get the influence measures (hat diagonal)\n",
    "influence = model.get_influence()\n",
    "hat_values = influence.hat_matrix_diag\n",
    "\n",
    "# Set a threshold for identifying high-leverage points (rule of thumb: 2*(k+1)/n, where k = number of predictors)\n",
    "n = len(df)\n",
    "k = X.shape[1] - 1  # number of predictors excluding the intercept\n",
    "leverage_threshold = 2 * (k + 1) / n\n",
    "\n",
    "# Identify high-leverage points\n",
    "high_leverage_points = np.where(hat_values > leverage_threshold)[0]\n",
    "\n",
    "print(f\"High leverage points (outliers in X): {high_leverage_points}\")"
   ]
  },
  {
   "cell_type": "markdown",
   "id": "0da03bdc",
   "metadata": {},
   "source": [
    "### Identify Outliers in Dependent Variables (Studentized Residuals)"
   ]
  },
  {
   "cell_type": "code",
   "execution_count": 58,
   "id": "6d7f37e3",
   "metadata": {},
   "outputs": [
    {
     "name": "stdout",
     "output_type": "stream",
     "text": [
      "Outliers in Y (studentized residuals): []\n"
     ]
    }
   ],
   "source": [
    "# Get the studentized residuals\n",
    "studentized_residuals = influence.resid_studentized_external\n",
    "\n",
    "# Set a threshold for identifying outliers in Y (commonly used threshold: |residual| > 3)\n",
    "student_residuals_threshold = 3\n",
    "\n",
    "# Identify outliers in the dependent variable\n",
    "outliers_in_y = np.where(np.abs(studentized_residuals) > student_residuals_threshold)[0]\n",
    "\n",
    "print(f\"Outliers in Y (studentized residuals): {outliers_in_y}\")"
   ]
  },
  {
   "cell_type": "markdown",
   "id": "817c8554",
   "metadata": {},
   "source": [
    "### RESULT: No outliers in both dependent and indepentdent variable\n",
    "## Q-5) Based on the sales prediction, calculate the overall projected profit for the Rocinante36 and Marengo32 models, respectively?"
   ]
  },
  {
   "cell_type": "code",
   "execution_count": 59,
   "id": "537d2405",
   "metadata": {},
   "outputs": [
    {
     "name": "stdout",
     "output_type": "stream",
     "text": [
      "Overall Projected Profit for Rocinante36: 22529270.0\n",
      "Overall Projected Profit for Marengo32: 20675120.0\n"
     ]
    }
   ],
   "source": [
    "selling_price_roc36 = 700000\n",
    "cost_per_unit_roc36 = 600000\n",
    "selling_price_mar32 = 4100000\n",
    "cost_per_unit_mar32 = 3300000\n",
    "pred_sales_roc36 = 225.2927\n",
    "pred_sales_mar32 = 25.8439\n",
    "\n",
    "# Calculate profits for each model\n",
    "profit_roc36 = (selling_price_roc36 - cost_per_unit_roc36) * pred_sales_roc36\n",
    "profit_mar32 = (selling_price_mar32 - cost_per_unit_mar32) * pred_sales_mar32\n",
    "\n",
    "print(f\"Overall Projected Profit for Rocinante36: {profit_roc36}\")\n",
    "print(f\"Overall Projected Profit for Marengo32: {profit_mar32}\")"
   ]
  },
  {
   "cell_type": "markdown",
   "id": "e727dd6e",
   "metadata": {},
   "source": [
    "### Q-6) Your company wishes to invest only in the model that can generate high overall profits. In which of the two models, Rocinante36 and Marengo32, should your company invest?\n",
    "Decision:\n",
    "Since Rocinante36 is projected to generate a higher overall profit (22,529,270.0) compared to Marengo32 (20,675,120.0), the company should invest in the Rocinante36 model to maximize profits.\n",
    "\n",
    "Rocinante36 is the better investment option based on the projected profit figures.\n",
    "\n",
    "## Q-7) You must have developed the regression equation for both the models, Rocinante36 and Marengo32. Suppose you increase the price of Rocinante36 and Marengo32 by ₹1 lakh each. Which of the two models will have to see a higher impact on sales numbers? Provide proper logic for your answer. (Note: You can assume that all the other specifications, such as mileage and top speed, are the same for both models.)"
   ]
  },
  {
   "cell_type": "code",
   "execution_count": 60,
   "id": "888e186d",
   "metadata": {},
   "outputs": [
    {
     "name": "stdout",
     "output_type": "stream",
     "text": [
      " Predicted sales after increase in price for Rocinante36: 224.4977\n",
      " Predicted sales after increase in price for Marengo32: 25.6572\n"
     ]
    }
   ],
   "source": [
    "#Regression equation for Rocinante36 : Sales=50.7231−0.7950×Price+8.3063×Mileage−0.0186×Top Speed\n",
    "# Regression equation  for Marengo32 : Sales= -13.4476 - 0.1867×Price+ 0.0413×Mileage + 0.2208×Top Speed\n",
    "# IF the price increase by 1lakh\n",
    "Sales_Roc36= 50.7231 - 0.7950 * 8 +8.3063 * 22 - 0.0186*140\n",
    "Sales_Mar32 = -13.4476 - 0.1867 * 42 + 0.0413 * 14+ 0.2208 *210\n",
    "print(f\" Predicted sales after increase in price for Rocinante36: {Sales_Roc36}\")\n",
    "print(f\" Predicted sales after increase in price for Marengo32: {Sales_Mar32}\")"
   ]
  },
  {
   "cell_type": "markdown",
   "id": "662ab1f4",
   "metadata": {},
   "source": [
    "#### RESULT: The impact of increasing the price on sales is more pronounced in Rocinante36, indicating that customers may be more price-sensitive for this model.\n"
   ]
  },
  {
   "cell_type": "code",
   "execution_count": null,
   "id": "bcca0f08",
   "metadata": {},
   "outputs": [],
   "source": []
  }
 ],
 "metadata": {
  "kernelspec": {
   "display_name": "Python 3 (ipykernel)",
   "language": "python",
   "name": "python3"
  },
  "language_info": {
   "codemirror_mode": {
    "name": "ipython",
    "version": 3
   },
   "file_extension": ".py",
   "mimetype": "text/x-python",
   "name": "python",
   "nbconvert_exporter": "python",
   "pygments_lexer": "ipython3",
   "version": "3.11.5"
  }
 },
 "nbformat": 4,
 "nbformat_minor": 5
}
